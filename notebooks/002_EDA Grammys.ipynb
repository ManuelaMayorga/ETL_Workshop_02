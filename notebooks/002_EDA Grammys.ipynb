{
 "cells": [
  {
   "cell_type": "markdown",
   "metadata": {},
   "source": [
    "# Exploratory Data Analysis - The Grammy Awards Dataset\n",
    "A fundamental part of this work is to identify the type of data and all the characteristics they have. In this way it will be possible to identify which transformations are necessary to perform in a next process, these transformations are not directly in this EDA, here are some processes to perform the transformations and a small visualization of how the data would look like and thus effectively create the Data Pipeline."
   ]
  },
  {
   "cell_type": "markdown",
   "metadata": {},
   "source": [
    "The environment variables are loaded from a `.env` file. The main goal is to manage the configuration, and the `WORK_PATH` environment variable is used to define a working directory."
   ]
  },
  {
   "cell_type": "code",
   "execution_count": 1,
   "metadata": {},
   "outputs": [],
   "source": [
    "import sys\n",
    "import os\n",
    "from dotenv import load_dotenv\n",
    "\n",
    "load_dotenv()\n",
    "work_path = os.getenv('WORK_PATH')\n",
    "\n",
    "sys.path.append(work_path)"
   ]
  },
  {
   "cell_type": "code",
   "execution_count": 7,
   "metadata": {},
   "outputs": [],
   "source": [
    "import pandas as pd\n",
    "import re\n",
    "import seaborn as sns\n",
    "from matplotlib import pyplot as plt\n",
    "from sqlalchemy.orm import aliased, sessionmaker\n",
    "from src.database.connection import config_loader\n",
    "from src.models.models import Grammys\n",
    "from sqlalchemy import Table, MetaData, select"
   ]
  },
  {
   "cell_type": "markdown",
   "metadata": {},
   "source": [
    "A connection to a database is established using `connection` and a SQLAlchemy session is created using `sessionmaker` linked to that connection. This streamlines database operations in the program."
   ]
  },
  {
   "cell_type": "code",
   "execution_count": 4,
   "metadata": {},
   "outputs": [
    {
     "name": "stderr",
     "output_type": "stream",
     "text": [
      "INFO:root:Connected successfully to Workshop-2 database\n"
     ]
    }
   ],
   "source": [
    "connection = config_loader()\n",
    "\n",
    "Session = sessionmaker(bind=config_loader)\n",
    "session = Session()\n"
   ]
  },
  {
   "cell_type": "markdown",
   "metadata": {},
   "source": [
    "Using SQLAlchemy, a query is made to the `(Grammys)` table, along with an alias `table`, to read and load the data into a DataFrame.\n",
    " "
   ]
  },
  {
   "cell_type": "code",
   "execution_count": 8,
   "metadata": {},
   "outputs": [
    {
     "name": "stderr",
     "output_type": "stream",
     "text": [
      "/tmp/ipykernel_7292/1181067269.py:2: RemovedIn20Warning: Deprecated API features detected! These feature(s) are not compatible with SQLAlchemy 2.0. To prevent incompatible upgrades prior to updating applications, ensure requirements files are pinned to \"sqlalchemy<2.0\". Set environment variable SQLALCHEMY_WARN_20=1 to show all deprecation warnings.  Set environment variable SQLALCHEMY_SILENCE_UBER_WARNING=1 to silence this message. (Background on SQLAlchemy 2.0 at: https://sqlalche.me/e/b8d9)\n",
      "  table = Table('grammys', metadata, autoload=True, autoload_with=connection)\n"
     ]
    }
   ],
   "source": [
    "metadata = MetaData()\n",
    "table = Table('grammys', metadata, autoload=True, autoload_with=connection)\n",
    "\n",
    "select_stmt = select([table])\n",
    "result_proxy = connection.execute(select_stmt)\n",
    "results = result_proxy.fetchall()\n",
    "column_names = table.columns.keys()\n",
    "df = pd.DataFrame(results, columns=column_names)"
   ]
  },
  {
   "cell_type": "code",
   "execution_count": 9,
   "metadata": {},
   "outputs": [
    {
     "data": {
      "text/html": [
       "<div>\n",
       "<style scoped>\n",
       "    .dataframe tbody tr th:only-of-type {\n",
       "        vertical-align: middle;\n",
       "    }\n",
       "\n",
       "    .dataframe tbody tr th {\n",
       "        vertical-align: top;\n",
       "    }\n",
       "\n",
       "    .dataframe thead th {\n",
       "        text-align: right;\n",
       "    }\n",
       "</style>\n",
       "<table border=\"1\" class=\"dataframe\">\n",
       "  <thead>\n",
       "    <tr style=\"text-align: right;\">\n",
       "      <th></th>\n",
       "      <th>id</th>\n",
       "      <th>year</th>\n",
       "      <th>title</th>\n",
       "      <th>published_at</th>\n",
       "      <th>updated_at</th>\n",
       "      <th>category</th>\n",
       "      <th>nominee</th>\n",
       "      <th>artist</th>\n",
       "      <th>workers</th>\n",
       "      <th>img</th>\n",
       "      <th>winner</th>\n",
       "    </tr>\n",
       "  </thead>\n",
       "  <tbody>\n",
       "    <tr>\n",
       "      <th>0</th>\n",
       "      <td>1</td>\n",
       "      <td>2019</td>\n",
       "      <td>62nd Annual GRAMMY Awards  (2019)</td>\n",
       "      <td>2020-05-19</td>\n",
       "      <td>2020-05-19</td>\n",
       "      <td>Record Of The Year</td>\n",
       "      <td>Bad Guy</td>\n",
       "      <td>Billie Eilish</td>\n",
       "      <td>Finneas O'Connell, producer; Rob Kinelski &amp; Fi...</td>\n",
       "      <td>https://www.grammy.com/sites/com/files/styles/...</td>\n",
       "      <td>True</td>\n",
       "    </tr>\n",
       "    <tr>\n",
       "      <th>1</th>\n",
       "      <td>2</td>\n",
       "      <td>2019</td>\n",
       "      <td>62nd Annual GRAMMY Awards  (2019)</td>\n",
       "      <td>2020-05-19</td>\n",
       "      <td>2020-05-19</td>\n",
       "      <td>Record Of The Year</td>\n",
       "      <td>Hey, Ma</td>\n",
       "      <td>Bon Iver</td>\n",
       "      <td>BJ Burton, Brad Cook, Chris Messina &amp; Justin V...</td>\n",
       "      <td>https://www.grammy.com/sites/com/files/styles/...</td>\n",
       "      <td>True</td>\n",
       "    </tr>\n",
       "    <tr>\n",
       "      <th>2</th>\n",
       "      <td>3</td>\n",
       "      <td>2019</td>\n",
       "      <td>62nd Annual GRAMMY Awards  (2019)</td>\n",
       "      <td>2020-05-19</td>\n",
       "      <td>2020-05-19</td>\n",
       "      <td>Record Of The Year</td>\n",
       "      <td>7 rings</td>\n",
       "      <td>Ariana Grande</td>\n",
       "      <td>Charles Anderson, Tommy Brown, Michael Foster ...</td>\n",
       "      <td>https://www.grammy.com/sites/com/files/styles/...</td>\n",
       "      <td>True</td>\n",
       "    </tr>\n",
       "    <tr>\n",
       "      <th>3</th>\n",
       "      <td>4</td>\n",
       "      <td>2019</td>\n",
       "      <td>62nd Annual GRAMMY Awards  (2019)</td>\n",
       "      <td>2020-05-19</td>\n",
       "      <td>2020-05-19</td>\n",
       "      <td>Record Of The Year</td>\n",
       "      <td>Hard Place</td>\n",
       "      <td>H.E.R.</td>\n",
       "      <td>Rodney “Darkchild” Jerkins, producer; Joseph H...</td>\n",
       "      <td>https://www.grammy.com/sites/com/files/styles/...</td>\n",
       "      <td>True</td>\n",
       "    </tr>\n",
       "    <tr>\n",
       "      <th>4</th>\n",
       "      <td>5</td>\n",
       "      <td>2019</td>\n",
       "      <td>62nd Annual GRAMMY Awards  (2019)</td>\n",
       "      <td>2020-05-19</td>\n",
       "      <td>2020-05-19</td>\n",
       "      <td>Record Of The Year</td>\n",
       "      <td>Talk</td>\n",
       "      <td>Khalid</td>\n",
       "      <td>Disclosure &amp; Denis Kosiak, producers; Ingmar C...</td>\n",
       "      <td>https://www.grammy.com/sites/com/files/styles/...</td>\n",
       "      <td>True</td>\n",
       "    </tr>\n",
       "  </tbody>\n",
       "</table>\n",
       "</div>"
      ],
      "text/plain": [
       "   id  year                              title published_at  updated_at  \\\n",
       "0   1  2019  62nd Annual GRAMMY Awards  (2019)   2020-05-19  2020-05-19   \n",
       "1   2  2019  62nd Annual GRAMMY Awards  (2019)   2020-05-19  2020-05-19   \n",
       "2   3  2019  62nd Annual GRAMMY Awards  (2019)   2020-05-19  2020-05-19   \n",
       "3   4  2019  62nd Annual GRAMMY Awards  (2019)   2020-05-19  2020-05-19   \n",
       "4   5  2019  62nd Annual GRAMMY Awards  (2019)   2020-05-19  2020-05-19   \n",
       "\n",
       "             category     nominee         artist  \\\n",
       "0  Record Of The Year     Bad Guy  Billie Eilish   \n",
       "1  Record Of The Year     Hey, Ma       Bon Iver   \n",
       "2  Record Of The Year     7 rings  Ariana Grande   \n",
       "3  Record Of The Year  Hard Place         H.E.R.   \n",
       "4  Record Of The Year        Talk         Khalid   \n",
       "\n",
       "                                             workers  \\\n",
       "0  Finneas O'Connell, producer; Rob Kinelski & Fi...   \n",
       "1  BJ Burton, Brad Cook, Chris Messina & Justin V...   \n",
       "2  Charles Anderson, Tommy Brown, Michael Foster ...   \n",
       "3  Rodney “Darkchild” Jerkins, producer; Joseph H...   \n",
       "4  Disclosure & Denis Kosiak, producers; Ingmar C...   \n",
       "\n",
       "                                                 img  winner  \n",
       "0  https://www.grammy.com/sites/com/files/styles/...    True  \n",
       "1  https://www.grammy.com/sites/com/files/styles/...    True  \n",
       "2  https://www.grammy.com/sites/com/files/styles/...    True  \n",
       "3  https://www.grammy.com/sites/com/files/styles/...    True  \n",
       "4  https://www.grammy.com/sites/com/files/styles/...    True  "
      ]
     },
     "execution_count": 9,
     "metadata": {},
     "output_type": "execute_result"
    }
   ],
   "source": [
    "df.head(5)"
   ]
  },
  {
   "cell_type": "markdown",
   "metadata": {},
   "source": [
    "### Columns"
   ]
  },
  {
   "cell_type": "code",
   "execution_count": 10,
   "metadata": {},
   "outputs": [
    {
     "data": {
      "text/plain": [
       "Index(['id', 'year', 'title', 'published_at', 'updated_at', 'category',\n",
       "       'nominee', 'artist', 'workers', 'img', 'winner'],\n",
       "      dtype='object')"
      ]
     },
     "execution_count": 10,
     "metadata": {},
     "output_type": "execute_result"
    }
   ],
   "source": [
    "df.columns"
   ]
  },
  {
   "cell_type": "markdown",
   "metadata": {},
   "source": [
    "##### Description of columns\n",
    "- ***id:*** Unique identifier for each entry in the dataset. This is not included in the original dataset, but was added as an ID at the time of loading into the database.\n",
    "- ***year:*** The year in which the Grammy Awards ceremony took place.\n",
    "- ***title:*** Title of the Grammy Awards ceremony, including the year.\n",
    "- ***published_at:*** Date and time the record was published.\n",
    "- ***updated_at:*** Date and year the record was updated.\n",
    "- ***category:*** The category in which the nomination falls.\n",
    "- ***nominee:*** Song, Album or Artist nominated.\n",
    "- ***artist:*** The name of the artist associated with the nomination.\n",
    "- ***workers:*** People involved in the production of the nominated song or album, such as producers, sound engineers, etc.\n",
    "- ***img:*** URL of the image associated with the nomination.\n",
    "- ***winner:*** Boolean indicator that shows whether the nomination was a winner (True) or not (False).\n",
    "\n",
    "*At the end of this notebook is the reference to the dataset, but in this case this description of the columns is your own.*"
   ]
  },
  {
   "cell_type": "markdown",
   "metadata": {},
   "source": [
    "Count of rows and columns to know how much data there are"
   ]
  },
  {
   "cell_type": "code",
   "execution_count": 6,
   "metadata": {},
   "outputs": [
    {
     "name": "stdout",
     "output_type": "stream",
     "text": [
      "The dataset has 4810 rows and 11 columns.\n"
     ]
    }
   ],
   "source": [
    "num_rows, num_columns = df.shape\n",
    "print(f'The dataset has {num_rows} rows and {num_columns} columns.')"
   ]
  },
  {
   "cell_type": "markdown",
   "metadata": {},
   "source": [
    "Data dictionary to identify the number of null values, data types and unique values."
   ]
  },
  {
   "cell_type": "code",
   "execution_count": 7,
   "metadata": {},
   "outputs": [
    {
     "name": "stdout",
     "output_type": "stream",
     "text": [
      "     Column Name Data Type  Null Values  Unique Values\n",
      "0             id     int64            0           4810\n",
      "1           year     int64            0             62\n",
      "2          title    object            0             62\n",
      "3   published_at    object            0              4\n",
      "4     updated_at    object            0             10\n",
      "5       category    object            0            638\n",
      "6        nominee    object            6           4131\n",
      "7         artist    object         1840           1658\n",
      "8        workers    object         2190           2366\n",
      "9            img    object         1367           1463\n",
      "10        winner      bool            0              1\n"
     ]
    }
   ],
   "source": [
    "data_info = {\n",
    "    'Column Name': list(df.columns),\n",
    "    'Data Type': list(df.dtypes),\n",
    "    'Null Values': list(df.isnull().sum()),\n",
    "    'Unique Values': list(df.nunique())\n",
    "}\n",
    "\n",
    "info_table = pd.DataFrame(data_info)\n",
    "print(info_table)"
   ]
  },
  {
   "cell_type": "markdown",
   "metadata": {},
   "source": [
    "Here we can see that we have several types of data and also 3 columns with a null value"
   ]
  },
  {
   "cell_type": "code",
   "execution_count": 8,
   "metadata": {},
   "outputs": [
    {
     "data": {
      "image/png": "[encoded data removed]",
      "text/plain": [
       "<Figure size 600x300 with 1 Axes>"
      ]
     },
     "metadata": {},
     "output_type": "display_data"
    }
   ],
   "source": [
    "plt.figure(figsize=(6, 3))\n",
    "sns.countplot(x='Data Type', data=info_table, color='mediumspringgreen')\n",
    "plt.title('Data Types and Counts')\n",
    "plt.xlabel('Data Type')\n",
    "plt.ylabel('Count')\n",
    "plt.show()"
   ]
  },
  {
   "cell_type": "markdown",
   "metadata": {},
   "source": [
    "According to this diagram the types of each column with raw data are as follows: \n",
    "- *intergers:* 2\n",
    "- *object:* 8\n",
    "- *boolean:* 1"
   ]
  },
  {
   "cell_type": "markdown",
   "metadata": {},
   "source": [
    "### Delete column that will not be used\n",
    "By eliminating these columns the idea is to simplify the data set, eliminating redundant or non-relevant information for the analysis, which can streamline the analysis process and reduce the complexity of your models."
   ]
  },
  {
   "cell_type": "code",
   "execution_count": 9,
   "metadata": {},
   "outputs": [
    {
     "data": {
      "text/html": [
       "<div>\n",
       "<style scoped>\n",
       "    .dataframe tbody tr th:only-of-type {\n",
       "        vertical-align: middle;\n",
       "    }\n",
       "\n",
       "    .dataframe tbody tr th {\n",
       "        vertical-align: top;\n",
       "    }\n",
       "\n",
       "    .dataframe thead th {\n",
       "        text-align: right;\n",
       "    }\n",
       "</style>\n",
       "<table border=\"1\" class=\"dataframe\">\n",
       "  <thead>\n",
       "    <tr style=\"text-align: right;\">\n",
       "      <th></th>\n",
       "      <th>id</th>\n",
       "      <th>year</th>\n",
       "      <th>title</th>\n",
       "      <th>category</th>\n",
       "      <th>nominee</th>\n",
       "      <th>artist</th>\n",
       "      <th>workers</th>\n",
       "      <th>winner</th>\n",
       "    </tr>\n",
       "  </thead>\n",
       "  <tbody>\n",
       "    <tr>\n",
       "      <th>0</th>\n",
       "      <td>1</td>\n",
       "      <td>2019</td>\n",
       "      <td>62nd Annual GRAMMY Awards  (2019)</td>\n",
       "      <td>Record Of The Year</td>\n",
       "      <td>Bad Guy</td>\n",
       "      <td>Billie Eilish</td>\n",
       "      <td>Finneas O'Connell, producer; Rob Kinelski &amp; Fi...</td>\n",
       "      <td>True</td>\n",
       "    </tr>\n",
       "    <tr>\n",
       "      <th>1</th>\n",
       "      <td>2</td>\n",
       "      <td>2019</td>\n",
       "      <td>62nd Annual GRAMMY Awards  (2019)</td>\n",
       "      <td>Record Of The Year</td>\n",
       "      <td>Hey, Ma</td>\n",
       "      <td>Bon Iver</td>\n",
       "      <td>BJ Burton, Brad Cook, Chris Messina &amp; Justin V...</td>\n",
       "      <td>True</td>\n",
       "    </tr>\n",
       "    <tr>\n",
       "      <th>2</th>\n",
       "      <td>3</td>\n",
       "      <td>2019</td>\n",
       "      <td>62nd Annual GRAMMY Awards  (2019)</td>\n",
       "      <td>Record Of The Year</td>\n",
       "      <td>7 rings</td>\n",
       "      <td>Ariana Grande</td>\n",
       "      <td>Charles Anderson, Tommy Brown, Michael Foster ...</td>\n",
       "      <td>True</td>\n",
       "    </tr>\n",
       "    <tr>\n",
       "      <th>3</th>\n",
       "      <td>4</td>\n",
       "      <td>2019</td>\n",
       "      <td>62nd Annual GRAMMY Awards  (2019)</td>\n",
       "      <td>Record Of The Year</td>\n",
       "      <td>Hard Place</td>\n",
       "      <td>H.E.R.</td>\n",
       "      <td>Rodney “Darkchild” Jerkins, producer; Joseph H...</td>\n",
       "      <td>True</td>\n",
       "    </tr>\n",
       "    <tr>\n",
       "      <th>4</th>\n",
       "      <td>5</td>\n",
       "      <td>2019</td>\n",
       "      <td>62nd Annual GRAMMY Awards  (2019)</td>\n",
       "      <td>Record Of The Year</td>\n",
       "      <td>Talk</td>\n",
       "      <td>Khalid</td>\n",
       "      <td>Disclosure &amp; Denis Kosiak, producers; Ingmar C...</td>\n",
       "      <td>True</td>\n",
       "    </tr>\n",
       "    <tr>\n",
       "      <th>...</th>\n",
       "      <td>...</td>\n",
       "      <td>...</td>\n",
       "      <td>...</td>\n",
       "      <td>...</td>\n",
       "      <td>...</td>\n",
       "      <td>...</td>\n",
       "      <td>...</td>\n",
       "      <td>...</td>\n",
       "    </tr>\n",
       "    <tr>\n",
       "      <th>4805</th>\n",
       "      <td>4806</td>\n",
       "      <td>1958</td>\n",
       "      <td>1st Annual GRAMMY Awards  (1958)</td>\n",
       "      <td>Best Classical Performance - Instrumentalist (...</td>\n",
       "      <td>Tchaikovsky: Piano Concerto No. 1 In B Flat Mi...</td>\n",
       "      <td>None</td>\n",
       "      <td>Van Cliburn, artist (Symphony Of The Air Orche...</td>\n",
       "      <td>True</td>\n",
       "    </tr>\n",
       "    <tr>\n",
       "      <th>4806</th>\n",
       "      <td>4807</td>\n",
       "      <td>1958</td>\n",
       "      <td>1st Annual GRAMMY Awards  (1958)</td>\n",
       "      <td>Best Classical Performance - Instrumentalist (...</td>\n",
       "      <td>Segovia Golden Jubilee</td>\n",
       "      <td>None</td>\n",
       "      <td>Andres Segovia, artist</td>\n",
       "      <td>True</td>\n",
       "    </tr>\n",
       "    <tr>\n",
       "      <th>4807</th>\n",
       "      <td>4808</td>\n",
       "      <td>1958</td>\n",
       "      <td>1st Annual GRAMMY Awards  (1958)</td>\n",
       "      <td>Best Classical Performance - Chamber Music (In...</td>\n",
       "      <td>Beethoven: Quartet 130</td>\n",
       "      <td>None</td>\n",
       "      <td>Hollywood String Quartet (Alvin Dinkin, Paul S...</td>\n",
       "      <td>True</td>\n",
       "    </tr>\n",
       "    <tr>\n",
       "      <th>4808</th>\n",
       "      <td>4809</td>\n",
       "      <td>1958</td>\n",
       "      <td>1st Annual GRAMMY Awards  (1958)</td>\n",
       "      <td>Best Classical Performance - Vocal Soloist (Wi...</td>\n",
       "      <td>Operatic Recital</td>\n",
       "      <td>None</td>\n",
       "      <td>None</td>\n",
       "      <td>True</td>\n",
       "    </tr>\n",
       "    <tr>\n",
       "      <th>4809</th>\n",
       "      <td>4810</td>\n",
       "      <td>1958</td>\n",
       "      <td>1st Annual GRAMMY Awards  (1958)</td>\n",
       "      <td>Best Classical Performance - Operatic Or Choral</td>\n",
       "      <td>Virtuoso</td>\n",
       "      <td>None</td>\n",
       "      <td>Roger Wagner, choir director</td>\n",
       "      <td>True</td>\n",
       "    </tr>\n",
       "  </tbody>\n",
       "</table>\n",
       "<p>4810 rows × 8 columns</p>\n",
       "</div>"
      ],
      "text/plain": [
       "        id  year                              title  \\\n",
       "0        1  2019  62nd Annual GRAMMY Awards  (2019)   \n",
       "1        2  2019  62nd Annual GRAMMY Awards  (2019)   \n",
       "2        3  2019  62nd Annual GRAMMY Awards  (2019)   \n",
       "3        4  2019  62nd Annual GRAMMY Awards  (2019)   \n",
       "4        5  2019  62nd Annual GRAMMY Awards  (2019)   \n",
       "...    ...   ...                                ...   \n",
       "4805  4806  1958   1st Annual GRAMMY Awards  (1958)   \n",
       "4806  4807  1958   1st Annual GRAMMY Awards  (1958)   \n",
       "4807  4808  1958   1st Annual GRAMMY Awards  (1958)   \n",
       "4808  4809  1958   1st Annual GRAMMY Awards  (1958)   \n",
       "4809  4810  1958   1st Annual GRAMMY Awards  (1958)   \n",
       "\n",
       "                                               category  \\\n",
       "0                                    Record Of The Year   \n",
       "1                                    Record Of The Year   \n",
       "2                                    Record Of The Year   \n",
       "3                                    Record Of The Year   \n",
       "4                                    Record Of The Year   \n",
       "...                                                 ...   \n",
       "4805  Best Classical Performance - Instrumentalist (...   \n",
       "4806  Best Classical Performance - Instrumentalist (...   \n",
       "4807  Best Classical Performance - Chamber Music (In...   \n",
       "4808  Best Classical Performance - Vocal Soloist (Wi...   \n",
       "4809    Best Classical Performance - Operatic Or Choral   \n",
       "\n",
       "                                                nominee         artist  \\\n",
       "0                                               Bad Guy  Billie Eilish   \n",
       "1                                               Hey, Ma       Bon Iver   \n",
       "2                                               7 rings  Ariana Grande   \n",
       "3                                            Hard Place         H.E.R.   \n",
       "4                                                  Talk         Khalid   \n",
       "...                                                 ...            ...   \n",
       "4805  Tchaikovsky: Piano Concerto No. 1 In B Flat Mi...           None   \n",
       "4806                             Segovia Golden Jubilee           None   \n",
       "4807                             Beethoven: Quartet 130           None   \n",
       "4808                                   Operatic Recital           None   \n",
       "4809                                           Virtuoso           None   \n",
       "\n",
       "                                                workers  winner  \n",
       "0     Finneas O'Connell, producer; Rob Kinelski & Fi...    True  \n",
       "1     BJ Burton, Brad Cook, Chris Messina & Justin V...    True  \n",
       "2     Charles Anderson, Tommy Brown, Michael Foster ...    True  \n",
       "3     Rodney “Darkchild” Jerkins, producer; Joseph H...    True  \n",
       "4     Disclosure & Denis Kosiak, producers; Ingmar C...    True  \n",
       "...                                                 ...     ...  \n",
       "4805  Van Cliburn, artist (Symphony Of The Air Orche...    True  \n",
       "4806                             Andres Segovia, artist    True  \n",
       "4807  Hollywood String Quartet (Alvin Dinkin, Paul S...    True  \n",
       "4808                                               None    True  \n",
       "4809                       Roger Wagner, choir director    True  \n",
       "\n",
       "[4810 rows x 8 columns]"
      ]
     },
     "execution_count": 9,
     "metadata": {},
     "output_type": "execute_result"
    }
   ],
   "source": [
    "df = df.drop(['published_at', 'updated_at', 'img'], axis=1)\n",
    "df"
   ]
  },
  {
   "cell_type": "markdown",
   "metadata": {},
   "source": [
    "### Descriptive analysis"
   ]
  },
  {
   "cell_type": "code",
   "execution_count": 10,
   "metadata": {},
   "outputs": [
    {
     "data": {
      "text/html": [
       "<div>\n",
       "<style scoped>\n",
       "    .dataframe tbody tr th:only-of-type {\n",
       "        vertical-align: middle;\n",
       "    }\n",
       "\n",
       "    .dataframe tbody tr th {\n",
       "        vertical-align: top;\n",
       "    }\n",
       "\n",
       "    .dataframe thead th {\n",
       "        text-align: right;\n",
       "    }\n",
       "</style>\n",
       "<table border=\"1\" class=\"dataframe\">\n",
       "  <thead>\n",
       "    <tr style=\"text-align: right;\">\n",
       "      <th></th>\n",
       "      <th>count</th>\n",
       "      <th>mean</th>\n",
       "      <th>std</th>\n",
       "      <th>min</th>\n",
       "      <th>25%</th>\n",
       "      <th>50%</th>\n",
       "      <th>75%</th>\n",
       "      <th>max</th>\n",
       "    </tr>\n",
       "  </thead>\n",
       "  <tbody>\n",
       "    <tr>\n",
       "      <th>id</th>\n",
       "      <td>4810.0</td>\n",
       "      <td>2405.500000</td>\n",
       "      <td>1388.671727</td>\n",
       "      <td>1.0</td>\n",
       "      <td>1203.25</td>\n",
       "      <td>2405.5</td>\n",
       "      <td>3607.75</td>\n",
       "      <td>4810.0</td>\n",
       "    </tr>\n",
       "    <tr>\n",
       "      <th>year</th>\n",
       "      <td>4810.0</td>\n",
       "      <td>1995.566944</td>\n",
       "      <td>17.149720</td>\n",
       "      <td>1958.0</td>\n",
       "      <td>1983.00</td>\n",
       "      <td>1998.0</td>\n",
       "      <td>2010.00</td>\n",
       "      <td>2019.0</td>\n",
       "    </tr>\n",
       "  </tbody>\n",
       "</table>\n",
       "</div>"
      ],
      "text/plain": [
       "       count         mean          std     min      25%     50%      75%  \\\n",
       "id    4810.0  2405.500000  1388.671727     1.0  1203.25  2405.5  3607.75   \n",
       "year  4810.0  1995.566944    17.149720  1958.0  1983.00  1998.0  2010.00   \n",
       "\n",
       "         max  \n",
       "id    4810.0  \n",
       "year  2019.0  "
      ]
     },
     "execution_count": 10,
     "metadata": {},
     "output_type": "execute_result"
    }
   ],
   "source": [
    "df.describe().T"
   ]
  },
  {
   "cell_type": "markdown",
   "metadata": {},
   "source": [
    "The results are interpreted for the year column since the id cannot give us much information. \n",
    "- The year data range from 1958 to 2019, with a mean of approximately 1995.80. This suggests that the data are centered around the 1990s and early 2000s.\n",
    "- The standard deviation is relatively low (17.05), indicating that the values tend to be closer to the mean.\n",
    "- The median is close to the mean, suggesting a symmetrical distribution of the data."
   ]
  },
  {
   "cell_type": "code",
   "execution_count": 11,
   "metadata": {},
   "outputs": [
    {
     "data": {
      "text/html": [
       "<div>\n",
       "<style scoped>\n",
       "    .dataframe tbody tr th:only-of-type {\n",
       "        vertical-align: middle;\n",
       "    }\n",
       "\n",
       "    .dataframe tbody tr th {\n",
       "        vertical-align: top;\n",
       "    }\n",
       "\n",
       "    .dataframe thead th {\n",
       "        text-align: right;\n",
       "    }\n",
       "</style>\n",
       "<table border=\"1\" class=\"dataframe\">\n",
       "  <thead>\n",
       "    <tr style=\"text-align: right;\">\n",
       "      <th></th>\n",
       "      <th>count</th>\n",
       "      <th>unique</th>\n",
       "      <th>top</th>\n",
       "      <th>freq</th>\n",
       "    </tr>\n",
       "  </thead>\n",
       "  <tbody>\n",
       "    <tr>\n",
       "      <th>title</th>\n",
       "      <td>4810</td>\n",
       "      <td>62</td>\n",
       "      <td>62nd Annual GRAMMY Awards  (2019)</td>\n",
       "      <td>433</td>\n",
       "    </tr>\n",
       "    <tr>\n",
       "      <th>category</th>\n",
       "      <td>4810</td>\n",
       "      <td>638</td>\n",
       "      <td>Song Of The Year</td>\n",
       "      <td>70</td>\n",
       "    </tr>\n",
       "    <tr>\n",
       "      <th>nominee</th>\n",
       "      <td>4804</td>\n",
       "      <td>4131</td>\n",
       "      <td>Berlioz: Requiem</td>\n",
       "      <td>7</td>\n",
       "    </tr>\n",
       "    <tr>\n",
       "      <th>artist</th>\n",
       "      <td>2970</td>\n",
       "      <td>1658</td>\n",
       "      <td>(Various Artists)</td>\n",
       "      <td>66</td>\n",
       "    </tr>\n",
       "    <tr>\n",
       "      <th>workers</th>\n",
       "      <td>2620</td>\n",
       "      <td>2366</td>\n",
       "      <td>John Williams, composer (John Williams)</td>\n",
       "      <td>20</td>\n",
       "    </tr>\n",
       "  </tbody>\n",
       "</table>\n",
       "</div>"
      ],
      "text/plain": [
       "         count unique                                      top freq\n",
       "title     4810     62        62nd Annual GRAMMY Awards  (2019)  433\n",
       "category  4810    638                         Song Of The Year   70\n",
       "nominee   4804   4131                         Berlioz: Requiem    7\n",
       "artist    2970   1658                        (Various Artists)   66\n",
       "workers   2620   2366  John Williams, composer (John Williams)   20"
      ]
     },
     "execution_count": 11,
     "metadata": {},
     "output_type": "execute_result"
    }
   ],
   "source": [
    "# descriptive statistics for categorical variables only\n",
    "df.describe(include='object').T"
   ]
  },
  {
   "cell_type": "markdown",
   "metadata": {},
   "source": [
    "These results indicate the distribution and frequency of the data:\n",
    "- title: There are 4810 titles in total. The most common title is \"62nd Annual GRAMMY Awards (2019)\" and appears 433 times.\n",
    "- category: There are 4810 unique entries in the category. \"Song Of The Year\" is the most common category, with 70 occurrences.\n",
    "- nominee: There are 4804 unique nominees in total. \"Berlioz: Requiem\" is the most common nominee, with 7 occurrences.\n",
    "- artist: 2970 unique artists are found in total. \"(Various Artists)\" is the most common artist, with 66 occurrences.\n",
    "- workers: There are 2620 unique workers in total. \"John Williams, composer (John Williams)\" is the most common worker, with 20 occurrences."
   ]
  },
  {
   "cell_type": "markdown",
   "metadata": {},
   "source": [
    "### Check duplicate values"
   ]
  },
  {
   "cell_type": "code",
   "execution_count": 12,
   "metadata": {},
   "outputs": [
    {
     "data": {
      "text/html": [
       "<div>\n",
       "<style scoped>\n",
       "    .dataframe tbody tr th:only-of-type {\n",
       "        vertical-align: middle;\n",
       "    }\n",
       "\n",
       "    .dataframe tbody tr th {\n",
       "        vertical-align: top;\n",
       "    }\n",
       "\n",
       "    .dataframe thead th {\n",
       "        text-align: right;\n",
       "    }\n",
       "</style>\n",
       "<table border=\"1\" class=\"dataframe\">\n",
       "  <thead>\n",
       "    <tr style=\"text-align: right;\">\n",
       "      <th></th>\n",
       "      <th>id</th>\n",
       "      <th>year</th>\n",
       "      <th>title</th>\n",
       "      <th>category</th>\n",
       "      <th>nominee</th>\n",
       "      <th>artist</th>\n",
       "      <th>workers</th>\n",
       "      <th>winner</th>\n",
       "    </tr>\n",
       "  </thead>\n",
       "  <tbody>\n",
       "  </tbody>\n",
       "</table>\n",
       "</div>"
      ],
      "text/plain": [
       "Empty DataFrame\n",
       "Columns: [id, year, title, category, nominee, artist, workers, winner]\n",
       "Index: []"
      ]
     },
     "execution_count": 12,
     "metadata": {},
     "output_type": "execute_result"
    }
   ],
   "source": [
    "df[df.duplicated(keep=False)]"
   ]
  },
  {
   "cell_type": "markdown",
   "metadata": {},
   "source": [
    "We note that there are no duplicate values"
   ]
  },
  {
   "cell_type": "markdown",
   "metadata": {},
   "source": [
    "### Null values\n",
    "There are null values in 3 columns 'nominee' 'artists' and 'workers'."
   ]
  },
  {
   "cell_type": "code",
   "execution_count": 13,
   "metadata": {},
   "outputs": [
    {
     "data": {
      "text/html": [
       "<div>\n",
       "<style scoped>\n",
       "    .dataframe tbody tr th:only-of-type {\n",
       "        vertical-align: middle;\n",
       "    }\n",
       "\n",
       "    .dataframe tbody tr th {\n",
       "        vertical-align: top;\n",
       "    }\n",
       "\n",
       "    .dataframe thead th {\n",
       "        text-align: right;\n",
       "    }\n",
       "</style>\n",
       "<table border=\"1\" class=\"dataframe\">\n",
       "  <thead>\n",
       "    <tr style=\"text-align: right;\">\n",
       "      <th></th>\n",
       "      <th>id</th>\n",
       "      <th>year</th>\n",
       "      <th>title</th>\n",
       "      <th>category</th>\n",
       "      <th>nominee</th>\n",
       "      <th>artist</th>\n",
       "      <th>workers</th>\n",
       "      <th>winner</th>\n",
       "    </tr>\n",
       "  </thead>\n",
       "  <tbody>\n",
       "    <tr>\n",
       "      <th>2282</th>\n",
       "      <td>2262</td>\n",
       "      <td>2000</td>\n",
       "      <td>43rd Annual GRAMMY Awards  (2000)</td>\n",
       "      <td>Remixer of the Year, Non-Classical</td>\n",
       "      <td>None</td>\n",
       "      <td>None</td>\n",
       "      <td>None</td>\n",
       "      <td>True</td>\n",
       "    </tr>\n",
       "    <tr>\n",
       "      <th>2377</th>\n",
       "      <td>2360</td>\n",
       "      <td>1999</td>\n",
       "      <td>42nd Annual GRAMMY Awards  (1999)</td>\n",
       "      <td>Remixer Of The Year, Non-Classical</td>\n",
       "      <td>None</td>\n",
       "      <td>None</td>\n",
       "      <td>None</td>\n",
       "      <td>True</td>\n",
       "    </tr>\n",
       "    <tr>\n",
       "      <th>2473</th>\n",
       "      <td>2455</td>\n",
       "      <td>1998</td>\n",
       "      <td>41st Annual GRAMMY Awards  (1998)</td>\n",
       "      <td>Remixer Of The Year, Non-classical</td>\n",
       "      <td>None</td>\n",
       "      <td>None</td>\n",
       "      <td>None</td>\n",
       "      <td>True</td>\n",
       "    </tr>\n",
       "    <tr>\n",
       "      <th>2569</th>\n",
       "      <td>2548</td>\n",
       "      <td>1997</td>\n",
       "      <td>40th Annual GRAMMY Awards  (1997)</td>\n",
       "      <td>Remixer Of The Year, Non-Classical</td>\n",
       "      <td>None</td>\n",
       "      <td>None</td>\n",
       "      <td>None</td>\n",
       "      <td>True</td>\n",
       "    </tr>\n",
       "    <tr>\n",
       "      <th>4526</th>\n",
       "      <td>4526</td>\n",
       "      <td>1965</td>\n",
       "      <td>8th Annual GRAMMY Awards  (1965)</td>\n",
       "      <td>Best New Country &amp; Western Artist</td>\n",
       "      <td>None</td>\n",
       "      <td>None</td>\n",
       "      <td>None</td>\n",
       "      <td>True</td>\n",
       "    </tr>\n",
       "    <tr>\n",
       "      <th>4574</th>\n",
       "      <td>4574</td>\n",
       "      <td>1964</td>\n",
       "      <td>7th Annual GRAMMY Awards  (1964)</td>\n",
       "      <td>Best New Country &amp; Western Artist Of 1964</td>\n",
       "      <td>None</td>\n",
       "      <td>None</td>\n",
       "      <td>None</td>\n",
       "      <td>True</td>\n",
       "    </tr>\n",
       "  </tbody>\n",
       "</table>\n",
       "</div>"
      ],
      "text/plain": [
       "        id  year                              title  \\\n",
       "2282  2262  2000  43rd Annual GRAMMY Awards  (2000)   \n",
       "2377  2360  1999  42nd Annual GRAMMY Awards  (1999)   \n",
       "2473  2455  1998  41st Annual GRAMMY Awards  (1998)   \n",
       "2569  2548  1997  40th Annual GRAMMY Awards  (1997)   \n",
       "4526  4526  1965   8th Annual GRAMMY Awards  (1965)   \n",
       "4574  4574  1964   7th Annual GRAMMY Awards  (1964)   \n",
       "\n",
       "                                       category nominee artist workers  winner  \n",
       "2282         Remixer of the Year, Non-Classical    None   None    None    True  \n",
       "2377         Remixer Of The Year, Non-Classical    None   None    None    True  \n",
       "2473         Remixer Of The Year, Non-classical    None   None    None    True  \n",
       "2569         Remixer Of The Year, Non-Classical    None   None    None    True  \n",
       "4526          Best New Country & Western Artist    None   None    None    True  \n",
       "4574  Best New Country & Western Artist Of 1964    None   None    None    True  "
      ]
     },
     "execution_count": 13,
     "metadata": {},
     "output_type": "execute_result"
    }
   ],
   "source": [
    "null_nominee = df[df['nominee'].isnull()]\n",
    "null_nominee"
   ]
  },
  {
   "cell_type": "markdown",
   "metadata": {},
   "source": [
    "let's remove the null values from nominee since there is no way to analyze this type of data because we do not have any valuable information. "
   ]
  },
  {
   "cell_type": "code",
   "execution_count": 14,
   "metadata": {},
   "outputs": [],
   "source": [
    "df.dropna(subset=['nominee'], inplace=True)"
   ]
  },
  {
   "cell_type": "code",
   "execution_count": 15,
   "metadata": {},
   "outputs": [
    {
     "data": {
      "text/html": [
       "<div>\n",
       "<style scoped>\n",
       "    .dataframe tbody tr th:only-of-type {\n",
       "        vertical-align: middle;\n",
       "    }\n",
       "\n",
       "    .dataframe tbody tr th {\n",
       "        vertical-align: top;\n",
       "    }\n",
       "\n",
       "    .dataframe thead th {\n",
       "        text-align: right;\n",
       "    }\n",
       "</style>\n",
       "<table border=\"1\" class=\"dataframe\">\n",
       "  <thead>\n",
       "    <tr style=\"text-align: right;\">\n",
       "      <th></th>\n",
       "      <th>id</th>\n",
       "      <th>year</th>\n",
       "      <th>title</th>\n",
       "      <th>category</th>\n",
       "      <th>nominee</th>\n",
       "      <th>artist</th>\n",
       "      <th>workers</th>\n",
       "      <th>winner</th>\n",
       "    </tr>\n",
       "  </thead>\n",
       "  <tbody>\n",
       "    <tr>\n",
       "      <th>16</th>\n",
       "      <td>183</td>\n",
       "      <td>2019</td>\n",
       "      <td>62nd Annual GRAMMY Awards  (2019)</td>\n",
       "      <td>Best Latin Jazz Album</td>\n",
       "      <td>Antidote</td>\n",
       "      <td>Chick Corea &amp; The Spanish Heart Band</td>\n",
       "      <td>None</td>\n",
       "      <td>True</td>\n",
       "    </tr>\n",
       "    <tr>\n",
       "      <th>25</th>\n",
       "      <td>25</td>\n",
       "      <td>2019</td>\n",
       "      <td>62nd Annual GRAMMY Awards  (2019)</td>\n",
       "      <td>Best New Artist</td>\n",
       "      <td>Billie Eilish</td>\n",
       "      <td>None</td>\n",
       "      <td>None</td>\n",
       "      <td>True</td>\n",
       "    </tr>\n",
       "    <tr>\n",
       "      <th>26</th>\n",
       "      <td>26</td>\n",
       "      <td>2019</td>\n",
       "      <td>62nd Annual GRAMMY Awards  (2019)</td>\n",
       "      <td>Best New Artist</td>\n",
       "      <td>Black Pumas</td>\n",
       "      <td>None</td>\n",
       "      <td>None</td>\n",
       "      <td>True</td>\n",
       "    </tr>\n",
       "    <tr>\n",
       "      <th>27</th>\n",
       "      <td>27</td>\n",
       "      <td>2019</td>\n",
       "      <td>62nd Annual GRAMMY Awards  (2019)</td>\n",
       "      <td>Best New Artist</td>\n",
       "      <td>Lil Nas X</td>\n",
       "      <td>None</td>\n",
       "      <td>None</td>\n",
       "      <td>True</td>\n",
       "    </tr>\n",
       "    <tr>\n",
       "      <th>28</th>\n",
       "      <td>28</td>\n",
       "      <td>2019</td>\n",
       "      <td>62nd Annual GRAMMY Awards  (2019)</td>\n",
       "      <td>Best New Artist</td>\n",
       "      <td>Lizzo</td>\n",
       "      <td>None</td>\n",
       "      <td>None</td>\n",
       "      <td>True</td>\n",
       "    </tr>\n",
       "    <tr>\n",
       "      <th>...</th>\n",
       "      <td>...</td>\n",
       "      <td>...</td>\n",
       "      <td>...</td>\n",
       "      <td>...</td>\n",
       "      <td>...</td>\n",
       "      <td>...</td>\n",
       "      <td>...</td>\n",
       "      <td>...</td>\n",
       "    </tr>\n",
       "    <tr>\n",
       "      <th>4794</th>\n",
       "      <td>4795</td>\n",
       "      <td>1958</td>\n",
       "      <td>1st Annual GRAMMY Awards  (1958)</td>\n",
       "      <td>Best Rhythm &amp; Blues Performance</td>\n",
       "      <td>Tequila</td>\n",
       "      <td>The Champs</td>\n",
       "      <td>None</td>\n",
       "      <td>True</td>\n",
       "    </tr>\n",
       "    <tr>\n",
       "      <th>4801</th>\n",
       "      <td>4802</td>\n",
       "      <td>1958</td>\n",
       "      <td>1st Annual GRAMMY Awards  (1958)</td>\n",
       "      <td>Best Sound Track Album, Dramatic Picture Score...</td>\n",
       "      <td>Gigi</td>\n",
       "      <td>Andre Previn</td>\n",
       "      <td>None</td>\n",
       "      <td>True</td>\n",
       "    </tr>\n",
       "    <tr>\n",
       "      <th>4802</th>\n",
       "      <td>4803</td>\n",
       "      <td>1958</td>\n",
       "      <td>1st Annual GRAMMY Awards  (1958)</td>\n",
       "      <td>Best Performance, Documentary Or Spoken Word</td>\n",
       "      <td>The Best Of The Stan Freberg Shows</td>\n",
       "      <td>Stan Freberg</td>\n",
       "      <td>None</td>\n",
       "      <td>True</td>\n",
       "    </tr>\n",
       "    <tr>\n",
       "      <th>4803</th>\n",
       "      <td>4804</td>\n",
       "      <td>1958</td>\n",
       "      <td>1st Annual GRAMMY Awards  (1958)</td>\n",
       "      <td>Best Recording For Children</td>\n",
       "      <td>The Chipmunk Song</td>\n",
       "      <td>David Seville And The Chipmunks (Ross Bagdasar...</td>\n",
       "      <td>None</td>\n",
       "      <td>True</td>\n",
       "    </tr>\n",
       "    <tr>\n",
       "      <th>4808</th>\n",
       "      <td>4809</td>\n",
       "      <td>1958</td>\n",
       "      <td>1st Annual GRAMMY Awards  (1958)</td>\n",
       "      <td>Best Classical Performance - Vocal Soloist (Wi...</td>\n",
       "      <td>Operatic Recital</td>\n",
       "      <td>None</td>\n",
       "      <td>None</td>\n",
       "      <td>True</td>\n",
       "    </tr>\n",
       "  </tbody>\n",
       "</table>\n",
       "<p>2184 rows × 8 columns</p>\n",
       "</div>"
      ],
      "text/plain": [
       "        id  year                              title  \\\n",
       "16     183  2019  62nd Annual GRAMMY Awards  (2019)   \n",
       "25      25  2019  62nd Annual GRAMMY Awards  (2019)   \n",
       "26      26  2019  62nd Annual GRAMMY Awards  (2019)   \n",
       "27      27  2019  62nd Annual GRAMMY Awards  (2019)   \n",
       "28      28  2019  62nd Annual GRAMMY Awards  (2019)   \n",
       "...    ...   ...                                ...   \n",
       "4794  4795  1958   1st Annual GRAMMY Awards  (1958)   \n",
       "4801  4802  1958   1st Annual GRAMMY Awards  (1958)   \n",
       "4802  4803  1958   1st Annual GRAMMY Awards  (1958)   \n",
       "4803  4804  1958   1st Annual GRAMMY Awards  (1958)   \n",
       "4808  4809  1958   1st Annual GRAMMY Awards  (1958)   \n",
       "\n",
       "                                               category  \\\n",
       "16                                Best Latin Jazz Album   \n",
       "25                                      Best New Artist   \n",
       "26                                      Best New Artist   \n",
       "27                                      Best New Artist   \n",
       "28                                      Best New Artist   \n",
       "...                                                 ...   \n",
       "4794                    Best Rhythm & Blues Performance   \n",
       "4801  Best Sound Track Album, Dramatic Picture Score...   \n",
       "4802       Best Performance, Documentary Or Spoken Word   \n",
       "4803                        Best Recording For Children   \n",
       "4808  Best Classical Performance - Vocal Soloist (Wi...   \n",
       "\n",
       "                                 nominee  \\\n",
       "16                              Antidote   \n",
       "25                         Billie Eilish   \n",
       "26                           Black Pumas   \n",
       "27                             Lil Nas X   \n",
       "28                                 Lizzo   \n",
       "...                                  ...   \n",
       "4794                             Tequila   \n",
       "4801                                Gigi   \n",
       "4802  The Best Of The Stan Freberg Shows   \n",
       "4803                   The Chipmunk Song   \n",
       "4808                    Operatic Recital   \n",
       "\n",
       "                                                 artist workers  winner  \n",
       "16                 Chick Corea & The Spanish Heart Band    None    True  \n",
       "25                                                 None    None    True  \n",
       "26                                                 None    None    True  \n",
       "27                                                 None    None    True  \n",
       "28                                                 None    None    True  \n",
       "...                                                 ...     ...     ...  \n",
       "4794                                         The Champs    None    True  \n",
       "4801                                       Andre Previn    None    True  \n",
       "4802                                       Stan Freberg    None    True  \n",
       "4803  David Seville And The Chipmunks (Ross Bagdasar...    None    True  \n",
       "4808                                               None    None    True  \n",
       "\n",
       "[2184 rows x 8 columns]"
      ]
     },
     "execution_count": 15,
     "metadata": {},
     "output_type": "execute_result"
    }
   ],
   "source": [
    "null_workers = df[df['workers'].isnull()]\n",
    "null_workers"
   ]
  },
  {
   "cell_type": "code",
   "execution_count": 16,
   "metadata": {},
   "outputs": [
    {
     "data": {
      "text/html": [
       "<div>\n",
       "<style scoped>\n",
       "    .dataframe tbody tr th:only-of-type {\n",
       "        vertical-align: middle;\n",
       "    }\n",
       "\n",
       "    .dataframe tbody tr th {\n",
       "        vertical-align: top;\n",
       "    }\n",
       "\n",
       "    .dataframe thead th {\n",
       "        text-align: right;\n",
       "    }\n",
       "</style>\n",
       "<table border=\"1\" class=\"dataframe\">\n",
       "  <thead>\n",
       "    <tr style=\"text-align: right;\">\n",
       "      <th></th>\n",
       "      <th>id</th>\n",
       "      <th>year</th>\n",
       "      <th>title</th>\n",
       "      <th>category</th>\n",
       "      <th>nominee</th>\n",
       "      <th>artist</th>\n",
       "      <th>workers</th>\n",
       "      <th>winner</th>\n",
       "    </tr>\n",
       "  </thead>\n",
       "  <tbody>\n",
       "    <tr>\n",
       "      <th>17</th>\n",
       "      <td>17</td>\n",
       "      <td>2019</td>\n",
       "      <td>62nd Annual GRAMMY Awards  (2019)</td>\n",
       "      <td>Song Of The Year</td>\n",
       "      <td>Bad Guy</td>\n",
       "      <td>None</td>\n",
       "      <td>Billie Eilish O'Connell &amp; Finneas O'Connell, s...</td>\n",
       "      <td>True</td>\n",
       "    </tr>\n",
       "    <tr>\n",
       "      <th>18</th>\n",
       "      <td>18</td>\n",
       "      <td>2019</td>\n",
       "      <td>62nd Annual GRAMMY Awards  (2019)</td>\n",
       "      <td>Song Of The Year</td>\n",
       "      <td>Always Remember Us This Way</td>\n",
       "      <td>None</td>\n",
       "      <td>Natalie Hemby, Lady Gaga, Hillary Lindsey &amp; Lo...</td>\n",
       "      <td>True</td>\n",
       "    </tr>\n",
       "    <tr>\n",
       "      <th>19</th>\n",
       "      <td>19</td>\n",
       "      <td>2019</td>\n",
       "      <td>62nd Annual GRAMMY Awards  (2019)</td>\n",
       "      <td>Song Of The Year</td>\n",
       "      <td>Bring My Flowers Now</td>\n",
       "      <td>None</td>\n",
       "      <td>Brandi Carlile, Phil Hanseroth, Tim Hanseroth ...</td>\n",
       "      <td>True</td>\n",
       "    </tr>\n",
       "    <tr>\n",
       "      <th>20</th>\n",
       "      <td>20</td>\n",
       "      <td>2019</td>\n",
       "      <td>62nd Annual GRAMMY Awards  (2019)</td>\n",
       "      <td>Song Of The Year</td>\n",
       "      <td>Hard Place</td>\n",
       "      <td>None</td>\n",
       "      <td>Ruby Amanfu, Sam Ashworth, D. Arcelious Harris...</td>\n",
       "      <td>True</td>\n",
       "    </tr>\n",
       "    <tr>\n",
       "      <th>21</th>\n",
       "      <td>21</td>\n",
       "      <td>2019</td>\n",
       "      <td>62nd Annual GRAMMY Awards  (2019)</td>\n",
       "      <td>Song Of The Year</td>\n",
       "      <td>Lover</td>\n",
       "      <td>None</td>\n",
       "      <td>Taylor Swift, songwriter (Taylor Swift)</td>\n",
       "      <td>True</td>\n",
       "    </tr>\n",
       "    <tr>\n",
       "      <th>...</th>\n",
       "      <td>...</td>\n",
       "      <td>...</td>\n",
       "      <td>...</td>\n",
       "      <td>...</td>\n",
       "      <td>...</td>\n",
       "      <td>...</td>\n",
       "      <td>...</td>\n",
       "      <td>...</td>\n",
       "    </tr>\n",
       "    <tr>\n",
       "      <th>4805</th>\n",
       "      <td>4806</td>\n",
       "      <td>1958</td>\n",
       "      <td>1st Annual GRAMMY Awards  (1958)</td>\n",
       "      <td>Best Classical Performance - Instrumentalist (...</td>\n",
       "      <td>Tchaikovsky: Piano Concerto No. 1 In B Flat Mi...</td>\n",
       "      <td>None</td>\n",
       "      <td>Van Cliburn, artist (Symphony Of The Air Orche...</td>\n",
       "      <td>True</td>\n",
       "    </tr>\n",
       "    <tr>\n",
       "      <th>4806</th>\n",
       "      <td>4807</td>\n",
       "      <td>1958</td>\n",
       "      <td>1st Annual GRAMMY Awards  (1958)</td>\n",
       "      <td>Best Classical Performance - Instrumentalist (...</td>\n",
       "      <td>Segovia Golden Jubilee</td>\n",
       "      <td>None</td>\n",
       "      <td>Andres Segovia, artist</td>\n",
       "      <td>True</td>\n",
       "    </tr>\n",
       "    <tr>\n",
       "      <th>4807</th>\n",
       "      <td>4808</td>\n",
       "      <td>1958</td>\n",
       "      <td>1st Annual GRAMMY Awards  (1958)</td>\n",
       "      <td>Best Classical Performance - Chamber Music (In...</td>\n",
       "      <td>Beethoven: Quartet 130</td>\n",
       "      <td>None</td>\n",
       "      <td>Hollywood String Quartet (Alvin Dinkin, Paul S...</td>\n",
       "      <td>True</td>\n",
       "    </tr>\n",
       "    <tr>\n",
       "      <th>4808</th>\n",
       "      <td>4809</td>\n",
       "      <td>1958</td>\n",
       "      <td>1st Annual GRAMMY Awards  (1958)</td>\n",
       "      <td>Best Classical Performance - Vocal Soloist (Wi...</td>\n",
       "      <td>Operatic Recital</td>\n",
       "      <td>None</td>\n",
       "      <td>None</td>\n",
       "      <td>True</td>\n",
       "    </tr>\n",
       "    <tr>\n",
       "      <th>4809</th>\n",
       "      <td>4810</td>\n",
       "      <td>1958</td>\n",
       "      <td>1st Annual GRAMMY Awards  (1958)</td>\n",
       "      <td>Best Classical Performance - Operatic Or Choral</td>\n",
       "      <td>Virtuoso</td>\n",
       "      <td>None</td>\n",
       "      <td>Roger Wagner, choir director</td>\n",
       "      <td>True</td>\n",
       "    </tr>\n",
       "  </tbody>\n",
       "</table>\n",
       "<p>1834 rows × 8 columns</p>\n",
       "</div>"
      ],
      "text/plain": [
       "        id  year                              title  \\\n",
       "17      17  2019  62nd Annual GRAMMY Awards  (2019)   \n",
       "18      18  2019  62nd Annual GRAMMY Awards  (2019)   \n",
       "19      19  2019  62nd Annual GRAMMY Awards  (2019)   \n",
       "20      20  2019  62nd Annual GRAMMY Awards  (2019)   \n",
       "21      21  2019  62nd Annual GRAMMY Awards  (2019)   \n",
       "...    ...   ...                                ...   \n",
       "4805  4806  1958   1st Annual GRAMMY Awards  (1958)   \n",
       "4806  4807  1958   1st Annual GRAMMY Awards  (1958)   \n",
       "4807  4808  1958   1st Annual GRAMMY Awards  (1958)   \n",
       "4808  4809  1958   1st Annual GRAMMY Awards  (1958)   \n",
       "4809  4810  1958   1st Annual GRAMMY Awards  (1958)   \n",
       "\n",
       "                                               category  \\\n",
       "17                                     Song Of The Year   \n",
       "18                                     Song Of The Year   \n",
       "19                                     Song Of The Year   \n",
       "20                                     Song Of The Year   \n",
       "21                                     Song Of The Year   \n",
       "...                                                 ...   \n",
       "4805  Best Classical Performance - Instrumentalist (...   \n",
       "4806  Best Classical Performance - Instrumentalist (...   \n",
       "4807  Best Classical Performance - Chamber Music (In...   \n",
       "4808  Best Classical Performance - Vocal Soloist (Wi...   \n",
       "4809    Best Classical Performance - Operatic Or Choral   \n",
       "\n",
       "                                                nominee artist  \\\n",
       "17                                              Bad Guy   None   \n",
       "18                          Always Remember Us This Way   None   \n",
       "19                                 Bring My Flowers Now   None   \n",
       "20                                           Hard Place   None   \n",
       "21                                                Lover   None   \n",
       "...                                                 ...    ...   \n",
       "4805  Tchaikovsky: Piano Concerto No. 1 In B Flat Mi...   None   \n",
       "4806                             Segovia Golden Jubilee   None   \n",
       "4807                             Beethoven: Quartet 130   None   \n",
       "4808                                   Operatic Recital   None   \n",
       "4809                                           Virtuoso   None   \n",
       "\n",
       "                                                workers  winner  \n",
       "17    Billie Eilish O'Connell & Finneas O'Connell, s...    True  \n",
       "18    Natalie Hemby, Lady Gaga, Hillary Lindsey & Lo...    True  \n",
       "19    Brandi Carlile, Phil Hanseroth, Tim Hanseroth ...    True  \n",
       "20    Ruby Amanfu, Sam Ashworth, D. Arcelious Harris...    True  \n",
       "21              Taylor Swift, songwriter (Taylor Swift)    True  \n",
       "...                                                 ...     ...  \n",
       "4805  Van Cliburn, artist (Symphony Of The Air Orche...    True  \n",
       "4806                             Andres Segovia, artist    True  \n",
       "4807  Hollywood String Quartet (Alvin Dinkin, Paul S...    True  \n",
       "4808                                               None    True  \n",
       "4809                       Roger Wagner, choir director    True  \n",
       "\n",
       "[1834 rows x 8 columns]"
      ]
     },
     "execution_count": 16,
     "metadata": {},
     "output_type": "execute_result"
    }
   ],
   "source": [
    "null_artist = df[df['artist'].isnull()]\n",
    "null_artist"
   ]
  },
  {
   "cell_type": "markdown",
   "metadata": {},
   "source": [
    "Let's check the information in the workers and artists column."
   ]
  },
  {
   "cell_type": "code",
   "execution_count": 17,
   "metadata": {},
   "outputs": [
    {
     "name": "stdout",
     "output_type": "stream",
     "text": [
      "[\"Finneas O'Connell, producer; Rob Kinelski & Finneas O'Connell, engineers/mixers; John Greenham, mastering engineer\"\n",
      " 'BJ Burton, Brad Cook, Chris Messina & Justin Vernon, producers; BJ Burton, Zach Hanson & Chris Messina, engineers/mixers; Greg Calbi, mastering engineer'\n",
      " 'Charles Anderson, Tommy Brown, Michael Foster & Victoria Monet, producers; Serban Ghenea, John Hanes, Billy Hickey & Brendan Morawski, engineers/mixers; Randy Merrill, mastering engineer'\n",
      " 'Rodney “Darkchild” Jerkins, producer; Joseph Hurtado, Jaycen Joshua, Derek Keota & Miki Tsutsumi, engineers/mixers; Colin Leonard, mastering engineer'\n",
      " 'Disclosure & Denis Kosiak, producers; Ingmar Carlson, Jon Castelli, Josh Deguzman, John Kercy, Denis Kosiak, Guy Lawrence & Michael Romero, engineers/mixers; Dale Becker, mastering engineer'\n",
      " 'Andrew \"VoxGod\" Bolooki, Jocelyn “Jozzy” Donald & YoungKio, producers; Andrew \"VoxGod\" Bolooki, Cinco & Joe Grasso, engineers/mixers; Eric Lagg, mastering engineer'\n",
      " 'Ricky Reed & Tele, producers; Chris Galland, Manny Marroquin & Ethan Shumaker, engineers/mixers; Chris Gehringer, mastering engineer'\n",
      " 'Louis Bell & Carter Lang, producers; Louis Bell & Manny Marroquin, engineers/mixers; Mike Bozzi, mastering engineer'\n",
      " \"Finneas O'Connell, producer; Rob Kinelski & Finneas O'Connell, engineers/mixers; Billie Eilish O'Connell\\xa0& Finneas O'Connell, songwriters; John Greenham, mastering engineer\"\n",
      " 'Brad Cook, Chris Messina & Justin Vernon, producers; Zach Hanson & Chris Messina, engineers/mixers; BJ Burton, Brad Cook & Justin Vernon, songwriters; Greg Calbi, mastering engineer'\n",
      " 'Jack Antonoff & Lana Del Rey, producers; Jack Antonoff & Laura Sisk, engineers/mixers; Jack Antonoff & Lana Del Rey, songwriters; Chris Gehringer, mastering engineer'\n",
      " 'Tommy Brown, Ilya, Max Martin & Victoria Monet, producers; Serban Ghenea, Sam Holland & Brendan Morawski, engineers/mixers; Tommy Brown, Ariana Grande, Savan Kotecha, Max Martin, Victoria Monet, Tayla Parx & Ilya Salmanzadeh, songwriters; Randy Merrill, mastering engineer'\n",
      " 'David \"Swagg R\\'Celious\" Harris, H.E.R., Walter Jones & Jeff Robinson, producers; Miki Tsutsumi, engineer/mixer; Sam Ashworth, Jeff “Gitty” Gitelman, David \"Swagg R\\'Celious\" Harris & H.E.R., songwriters; Dave Kutch, mastering engineer'\n",
      " 'Joe Grasso, engineer/mixer; Montero Lamar Hill, songwriter; Eric Lagg, mastering engineer'\n",
      " 'Ricky Reed, producer; Manny Marroquin & Ethan Shumaker, engineers/mixers; Eric Frederic & Melissa Jefferson, songwriters; Chris Gehringer, mastering engineer'\n",
      " 'Ezra Koenig & Ariel Rechtshaid, producers; John DeBold, Chris Kasych, Takemasa Kosaka, Ariel Rechtshaid & Hiroya Takayama, engineers/mixers; Ezra Koenig, songwriter; Emily Lazar, mastering engineer'\n",
      " None\n",
      " \"Billie Eilish O'Connell & Finneas O'Connell, songwriters (Billie Eilish)\"\n",
      " 'Natalie Hemby, Lady Gaga, Hillary Lindsey & Lori McKenna, songwriters (Lady Gaga)'\n",
      " 'Brandi Carlile, Phil Hanseroth, Tim Hanseroth & Tanya Tucker, songwriters (Tanya Tucker)']\n"
     ]
    }
   ],
   "source": [
    "print(df['workers'].unique()[:20])"
   ]
  },
  {
   "cell_type": "code",
   "execution_count": 18,
   "metadata": {},
   "outputs": [
    {
     "name": "stdout",
     "output_type": "stream",
     "text": [
      "['Billie Eilish' 'Bon Iver' 'Ariana Grande' 'H.E.R.' 'Khalid'\n",
      " 'Lil Nas X Featuring Billy Ray Cyrus' 'Lizzo' 'Post Malone & Swae Lee'\n",
      " 'Lana Del Rey' 'Lil Nas X' 'Vampire Weekend'\n",
      " 'Chick Corea & The Spanish Heart Band' None 'Beyoncé' 'Taylor Swift'\n",
      " 'Ariana Grande & Social House' 'Jonas Brothers'\n",
      " 'Shawn Mendes & Camila Cabello' 'Elvis Costello & The Imposters'\n",
      " 'Andrea Bocelli']\n"
     ]
    }
   ],
   "source": [
    "print(df['artist'].unique()[:20])"
   ]
  },
  {
   "cell_type": "markdown",
   "metadata": {},
   "source": [
    "After analyzing the information in the data, a pattern was identified in the workers column, where some columns have information that we assume and suppose that it is about the artist located between brackets, then this could be a way to complete the null values in the artist column, and for the case of the nulls in the workers column, the information that serves to fill the nulls is the artist, since we assume that these columns are related and thus find a way for one column to complement the other and not simply eliminate all the null values. "
   ]
  },
  {
   "cell_type": "markdown",
   "metadata": {},
   "source": [
    "Then we are going to use regular expressions to parse and manipulate the text patterns, in this case for the process of the artist column being filled with the values from workers"
   ]
  },
  {
   "cell_type": "code",
   "execution_count": 19,
   "metadata": {},
   "outputs": [
    {
     "name": "stderr",
     "output_type": "stream",
     "text": [
      "C:\\Users\\manue\\AppData\\Local\\Temp\\ipykernel_4452\\2391395186.py:12: UserWarning: This pattern is interpreted as a regular expression, and has match groups. To actually get the groups, use str.extract.\n",
      "  condition = df['artist'].isnull() & df['workers'].str.contains('|'.join(patterns))\n"
     ]
    },
    {
     "data": {
      "text/plain": [
       "id             0\n",
       "year           0\n",
       "title          0\n",
       "category       0\n",
       "nominee        0\n",
       "artist       468\n",
       "workers     2184\n",
       "winner         0\n",
       "dtype: int64"
      ]
     },
     "execution_count": 19,
     "metadata": {},
     "output_type": "execute_result"
    }
   ],
   "source": [
    "patterns = [r'composer \\((.*?)\\)', \n",
    "            r'\\(.*\\)',\n",
    "            r'songwriters? \\((.*?)\\)']\n",
    "\n",
    "def find_artist(workers):\n",
    "    for pattern in patterns:\n",
    "        matches = re.findall(pattern, workers)\n",
    "        if matches:\n",
    "            return matches[0] if matches[0] else None\n",
    "    return None\n",
    "\n",
    "condition = df['artist'].isnull() & df['workers'].str.contains('|'.join(patterns))\n",
    "\n",
    "# Applying the condition and filling the 'artist' field with values from 'workers'\n",
    "df.loc[condition, 'artist'] = df.loc[condition, 'workers'].apply(lambda x: find_artist(x) if isinstance(x, str) else None)\n",
    "df.isnull().sum()"
   ]
  },
  {
   "cell_type": "markdown",
   "metadata": {},
   "source": [
    "process that the workers column is filled with the artist's values.\n"
   ]
  },
  {
   "cell_type": "code",
   "execution_count": 20,
   "metadata": {},
   "outputs": [
    {
     "data": {
      "text/plain": [
       "id            0\n",
       "year          0\n",
       "title         0\n",
       "category      0\n",
       "nominee       0\n",
       "artist      468\n",
       "workers     180\n",
       "winner        0\n",
       "dtype: int64"
      ]
     },
     "execution_count": 20,
     "metadata": {},
     "output_type": "execute_result"
    }
   ],
   "source": [
    "validation = (df['artist'].notnull()) & (df['workers'].isnull())\n",
    "\n",
    "# Applying the condition and filling 'workers' with values from 'artist'\n",
    "df.loc[validation, 'workers'] = df.loc[validation, 'artist'].apply(lambda x: x if isinstance(x, str) else None)\n",
    "df.isnull().sum()"
   ]
  },
  {
   "cell_type": "markdown",
   "metadata": {},
   "source": [
    "Here we eliminate the remaining null values"
   ]
  },
  {
   "cell_type": "code",
   "execution_count": 21,
   "metadata": {},
   "outputs": [],
   "source": [
    "df.dropna(subset=['artist', 'workers'], inplace=True)"
   ]
  },
  {
   "cell_type": "code",
   "execution_count": 22,
   "metadata": {},
   "outputs": [
    {
     "name": "stdout",
     "output_type": "stream",
     "text": [
      "  Column Name  Null Values  Unique Values\n",
      "0          id            0           4336\n",
      "1        year            0             62\n",
      "2       title            0             62\n",
      "3    category            0            569\n",
      "4     nominee            0           3773\n",
      "5      artist            0           2510\n",
      "6     workers            0           3371\n",
      "7      winner            0              1\n"
     ]
    }
   ],
   "source": [
    "data_info = {\n",
    "    'Column Name': list(df.columns),\n",
    "    'Null Values': list(df.isnull().sum()),\n",
    "    'Unique Values': list(df.nunique())\n",
    "}\n",
    "\n",
    "info_table = pd.DataFrame(data_info)\n",
    "print(info_table)"
   ]
  },
  {
   "cell_type": "markdown",
   "metadata": {},
   "source": [
    "Finally, we verified that there were no null values and also observed that the number of unique values increased. "
   ]
  },
  {
   "cell_type": "markdown",
   "metadata": {},
   "source": [
    "### Colum year\n"
   ]
  },
  {
   "cell_type": "code",
   "execution_count": 23,
   "metadata": {},
   "outputs": [
    {
     "data": {
      "text/plain": [
       "(1958, 2019)"
      ]
     },
     "execution_count": 23,
     "metadata": {},
     "output_type": "execute_result"
    }
   ],
   "source": [
    "df['year'].min(), df['year'].max()"
   ]
  },
  {
   "cell_type": "markdown",
   "metadata": {},
   "source": [
    "We look at the years in the dataset and see that we have information from 1958 to 2019."
   ]
  },
  {
   "cell_type": "code",
   "execution_count": 24,
   "metadata": {},
   "outputs": [
    {
     "data": {
      "image/png": "[encoded data removed]",
      "text/plain": [
       "<Figure size 1000x600 with 1 Axes>"
      ]
     },
     "metadata": {},
     "output_type": "display_data"
    }
   ],
   "source": [
    "nominations_year = df.groupby('year').size()\n",
    "\n",
    "plt.figure(figsize=(10, 6))\n",
    "plt.plot(nominations_year.index, nominations_year.values, marker='o', linestyle='-', color='mediumspringgreen')\n",
    "plt.title('Number of Nominations per Year')\n",
    "plt.xlabel('Year')\n",
    "plt.ylabel('Number of Nominations')\n",
    "plt.grid(False)\n",
    "plt.xticks(nominations_year.index)\n",
    "plt.xticks(rotation=90)\n",
    "plt.tight_layout()\n",
    "plt.show()"
   ]
  },
  {
   "cell_type": "markdown",
   "metadata": {},
   "source": [
    "- The number of nominations increased between 1958 and 2019.\n",
    "- The general trend is an increase in the number of nominations.\n",
    "\n",
    "It is clear that the graph shows an increasing trend but has a decrease between 2010 and 2018, but what is most significant is the large increase in 2019, which could be due to the fact that music has become more diverse in recent decades and has also experienced significant growth in recent decades. This has led to a greater number of musical genres and styles represented at the Grammys, which in turn has increased the number of nominations."
   ]
  },
  {
   "cell_type": "markdown",
   "metadata": {},
   "source": [
    "### Column title"
   ]
  },
  {
   "cell_type": "code",
   "execution_count": 25,
   "metadata": {},
   "outputs": [
    {
     "data": {
      "text/plain": [
       "array(['62nd Annual GRAMMY Awards  (2019)',\n",
       "       '43rd Annual GRAMMY Awards  (2000)',\n",
       "       '38th Annual GRAMMY Awards  (1995)',\n",
       "       '61st Annual GRAMMY Awards  (2018)',\n",
       "       '31st Annual GRAMMY Awards  (1988)',\n",
       "       '60th Annual GRAMMY Awards  (2017)',\n",
       "       '59th Annual GRAMMY Awards  (2016)',\n",
       "       '58th Annual GRAMMY Awards  (2015)',\n",
       "       '34th Annual GRAMMY Awards  (1991)',\n",
       "       '33rd Annual GRAMMY Awards  (1990)',\n",
       "       '57th Annual GRAMMY Awards  (2014)',\n",
       "       '56th Annual GRAMMY Awards  (2013)',\n",
       "       '55th Annual GRAMMY Awards  (2012)',\n",
       "       '47th Annual GRAMMY Awards  (2004)',\n",
       "       '32nd Annual GRAMMY Awards  (1989)',\n",
       "       '54th Annual GRAMMY Awards  (2011)',\n",
       "       '53rd Annual GRAMMY Awards  (2010)',\n",
       "       '51st Annual GRAMMY Awards  (2008)',\n",
       "       '52nd Annual GRAMMY Awards  (2009)',\n",
       "       '16th Annual GRAMMY Awards  (1973)',\n",
       "       '45th Annual GRAMMY Awards  (2002)',\n",
       "       '50th Annual GRAMMY Awards  (2007)',\n",
       "       '12th Annual GRAMMY Awards  (1969)',\n",
       "       '9th Annual GRAMMY Awards  (1966)',\n",
       "       '49th Annual GRAMMY Awards  (2006)',\n",
       "       '42nd Annual GRAMMY Awards  (1999)',\n",
       "       '48th Annual GRAMMY Awards  (2005)',\n",
       "       '46th Annual GRAMMY Awards  (2003)',\n",
       "       '29th Annual GRAMMY Awards  (1986)',\n",
       "       '44th Annual GRAMMY Awards  (2001)',\n",
       "       '41st Annual GRAMMY Awards  (1998)',\n",
       "       '40th Annual GRAMMY Awards  (1997)',\n",
       "       '27th Annual GRAMMY Awards  (1984)',\n",
       "       '25th Annual GRAMMY Awards  (1982)',\n",
       "       '39th Annual GRAMMY Awards  (1996)',\n",
       "       '37th Annual GRAMMY Awards  (1994)',\n",
       "       '36th Annual GRAMMY Awards  (1993)',\n",
       "       '35th Annual GRAMMY Awards  (1992)',\n",
       "       '30th Annual GRAMMY Awards  (1987)',\n",
       "       '28th Annual GRAMMY Awards  (1985)',\n",
       "       '26th Annual GRAMMY Awards  (1983)',\n",
       "       '24th Annual GRAMMY Awards  (1981)',\n",
       "       '23rd Annual GRAMMY Awards  (1980)',\n",
       "       '22nd Annual GRAMMY Awards  (1979)',\n",
       "       '21st Annual GRAMMY Awards  (1978)',\n",
       "       '8th Annual GRAMMY Awards  (1965)',\n",
       "       '20th Annual GRAMMY Awards  (1977)',\n",
       "       '19th Annual GRAMMY Awards  (1976)',\n",
       "       '18th Annual GRAMMY Awards  (1975)',\n",
       "       '17th Annual GRAMMY Awards  (1974)',\n",
       "       '15th Annual GRAMMY Awards  (1972)',\n",
       "       '14th Annual GRAMMY Awards  (1971)',\n",
       "       '3rd Annual GRAMMY Awards  (1960)',\n",
       "       '13th Annual GRAMMY Awards  (1970)',\n",
       "       '11th Annual GRAMMY Awards  (1968)',\n",
       "       '10th Annual GRAMMY Awards  (1967)',\n",
       "       '7th Annual GRAMMY Awards  (1964)',\n",
       "       '6th Annual GRAMMY Awards  (1963)',\n",
       "       '5th Annual GRAMMY Awards  (1962)',\n",
       "       '4th Annual GRAMMY Awards  (1961)',\n",
       "       '2nd Annual GRAMMY Awards  (1959)',\n",
       "       '1st Annual GRAMMY Awards  (1958)'], dtype=object)"
      ]
     },
     "execution_count": 25,
     "metadata": {},
     "output_type": "execute_result"
    }
   ],
   "source": [
    "df['title'].unique()"
   ]
  },
  {
   "cell_type": "code",
   "execution_count": 26,
   "metadata": {},
   "outputs": [
    {
     "data": {
      "text/plain": [
       "62"
      ]
     },
     "execution_count": 26,
     "metadata": {},
     "output_type": "execute_result"
    }
   ],
   "source": [
    "df['title'].nunique()"
   ]
  },
  {
   "cell_type": "code",
   "execution_count": 27,
   "metadata": {},
   "outputs": [
    {
     "data": {
      "image/png": "[encoded data removed]",
      "text/plain": [
       "<Figure size 1300x600 with 1 Axes>"
      ]
     },
     "metadata": {},
     "output_type": "display_data"
    }
   ],
   "source": [
    "nominations_count = df['title'].value_counts().head(10)\n",
    "\n",
    "plt.figure(figsize=(13, 6))\n",
    "sns.barplot(x=nominations_count.values, y=nominations_count.index, color='mediumspringgreen')\n",
    "\n",
    "for i, v in enumerate(nominations_count.values):\n",
    "    plt.text(v + 0.2, i, str(v), color='black', va='center')\n",
    "\n",
    "plt.xlabel('Number of Nominations')\n",
    "plt.ylabel('Title')\n",
    "plt.title('Top 10 Titles with the Highest Number of Nominations')\n",
    "plt.show()"
   ]
  },
  {
   "cell_type": "markdown",
   "metadata": {},
   "source": [
    "It is evident that the title 62nd which corresponds to the year 2019 has a fairly large increase in terms of nominations compared to other years, then I searched the internet the 2019 grammys and see if it is possible to find a reason why it is the title with more nominations, and I found that the number of the title is wrong and the 2019 grammys are the number 61st and the title 62nd corresponds to 2020 according to what I found. Then I looked for different titles and I realized that the year is wrong, but I looked in the official page of the grammys and there the information was correct, that is to say, it coincides exactly as in the dataset. Then I realized some very important information the 1st and 2nd Grammy Awards ceremony were held in the same year in 1959 (I quote the information) \"The first thing you should know about the 2nd Annual GRAMMY Awards is that they weren't actually \"annual\" at all. In fact, this awards presentation marked the only time in GRAMMY history that two awards presentations were ever made in one year, with both the 1st and 2nd GRAMMYs falling in 1959. Call it a slightly embarrassing case of premature validation\" (Grammy Awards, n.d.). \n",
    "\n",
    "*The link to this information is in the references.*\n",
    "\n",
    "But finally I did not find the reason for this increase, so we suppose that it is due to the popularity that has been reaching the different musical styles, involving different cultures, rhythms and lyrics, or that there are many artists who have reached a high level of popularity and this makes more nominations are generated. "
   ]
  },
  {
   "cell_type": "markdown",
   "metadata": {},
   "source": [
    "### Column category"
   ]
  },
  {
   "cell_type": "code",
   "execution_count": 28,
   "metadata": {},
   "outputs": [
    {
     "data": {
      "text/plain": [
       "569"
      ]
     },
     "execution_count": 28,
     "metadata": {},
     "output_type": "execute_result"
    }
   ],
   "source": [
    "df['category'].nunique()"
   ]
  },
  {
   "cell_type": "markdown",
   "metadata": {},
   "source": [
    "After checking how many categories there are, let's see what are the 10 most frequent categories"
   ]
  },
  {
   "cell_type": "code",
   "execution_count": 29,
   "metadata": {},
   "outputs": [
    {
     "data": {
      "image/png": "[encoded data removed]",
      "text/plain": [
       "<Figure size 1000x600 with 1 Axes>"
      ]
     },
     "metadata": {},
     "output_type": "display_data"
    }
   ],
   "source": [
    "category_frequency = df['category'].value_counts().head(10)\n",
    "\n",
    "plt.figure(figsize=(10, 6))\n",
    "sns.barplot(x=category_frequency.values, y=category_frequency.index, color='mediumspringgreen')\n",
    "\n",
    "for i, v in enumerate(category_frequency.values):\n",
    "    plt.text(v + 0.2, i, str(v), color='black', va='center')\n",
    "\n",
    "plt.xlabel('Frequency')\n",
    "plt.ylabel('Category')\n",
    "plt.title('Top 10 Most Frequent Categories')\n",
    "plt.show()"
   ]
  },
  {
   "cell_type": "markdown",
   "metadata": {},
   "source": [
    "The most frequent categories at the Grammy Awards are those that encompass popular genres, are considered the most important and have had a significant cultural impact. On the other hand, other categories with high frequency focus on specific genres or aspects of music, rewarding quality in particular areas of music production. "
   ]
  },
  {
   "cell_type": "code",
   "execution_count": 30,
   "metadata": {},
   "outputs": [
    {
     "data": {
      "image/png": "[encoded data removed]",
      "text/plain": [
       "<Figure size 1000x600 with 1 Axes>"
      ]
     },
     "metadata": {},
     "output_type": "display_data"
    }
   ],
   "source": [
    "categories_year = df.groupby('year')['category'].nunique()\n",
    "\n",
    "plt.figure(figsize=(10, 6))\n",
    "categories_year.plot(kind='bar', color='mediumspringgreen')\n",
    "plt.xlabel('Year')\n",
    "plt.ylabel('Number of Categories')\n",
    "plt.title('Number of Categories per Year')\n",
    "plt.show()"
   ]
  },
  {
   "cell_type": "markdown",
   "metadata": {},
   "source": [
    "The increase in the number of categories at the Grammy Awards is due to several key factors. It reflects the increasing diversification of popular music, adapting to new genres and emerging subgenres, and is related to the expansion of the music market, which allows more artists to be honored and attract a wider audience. And about the minimization of categories between 2010 and 2019, maybe it is due to internal processes of the organization.\n"
   ]
  },
  {
   "cell_type": "markdown",
   "metadata": {},
   "source": [
    "### Columns nominee"
   ]
  },
  {
   "cell_type": "markdown",
   "metadata": {},
   "source": [
    "We check some data in this column"
   ]
  },
  {
   "cell_type": "code",
   "execution_count": 31,
   "metadata": {},
   "outputs": [
    {
     "name": "stdout",
     "output_type": "stream",
     "text": [
      "['Bad Guy' 'Hey, Ma' '7 rings' 'Hard Place' 'Talk' 'Old Town Road'\n",
      " 'Truth Hurts' 'Sunflower' 'When We All Fall Asleep, Where Do We Go?'\n",
      " 'I,I' 'Norman F***ing Rockwell!' 'thank u, next' 'I Used To Know Her' '7'\n",
      " 'Cuz I Love You (Deluxe)' 'Father Of The Bride' 'Antidote'\n",
      " 'Always Remember Us This Way' 'Bring My Flowers Now' 'Lover'\n",
      " 'Norman F***ing Rockwell' 'Someone You Loved' 'Spirit'\n",
      " 'You Need To Calm Down' 'Boyfriend' 'Sucker' 'Señorita' 'Look Now' 'Sì'\n",
      " 'Love (Deluxe Edition)' 'A Legendary Christmas' 'Walls'\n",
      " 'The Lion King: The Gift' 'No.6 Collaborations Project' 'Got To Keep On'\n",
      " 'Linked' 'Piece Of Your Heart' 'Underwater' 'Midnight Hour'\n",
      " 'No Geography' 'LP5' 'Hi This Is Flume (Mixtape)' 'SOLACE' 'Weather'\n",
      " 'Mettavolution' 'Ancestral Recall' '1963: New Directions'\n",
      " 'Star People Nation' 'Beat Music! Beat Music! Beat Music!' 'Elevate']\n"
     ]
    }
   ],
   "source": [
    "print(df['nominee'].unique()[:50])"
   ]
  },
  {
   "cell_type": "code",
   "execution_count": 32,
   "metadata": {},
   "outputs": [
    {
     "name": "stdout",
     "output_type": "stream",
     "text": [
      "                          Song  Number of Nominations\n",
      "0   Bridge Over Troubled Water                      7\n",
      "1             Berlioz: Requiem                      6\n",
      "2              Up, Up And Away                      6\n",
      "3            Gentle On My Mind                      5\n",
      "4                 Need You Now                      5\n",
      "5             A Taste Of Honey                      5\n",
      "6             King Of The Road                      5\n",
      "7              West Side Story                      5\n",
      "8                    Blackstar                      5\n",
      "9  Mahler: Symphony No. 9 In D                      4\n"
     ]
    }
   ],
   "source": [
    "nominations_song = df['nominee'].value_counts().head(10)\n",
    "\n",
    "nominations_table = pd.DataFrame({'Song': nominations_song.index,\n",
    "                                  'Number of Nominations': nominations_song.values})\n",
    "\n",
    "print(nominations_table)"
   ]
  },
  {
   "cell_type": "markdown",
   "metadata": {},
   "source": [
    "These songs could have had a great impact or are very good and popular songs, due to their musical composition, lyrics, vocal performance and production.\n"
   ]
  },
  {
   "cell_type": "markdown",
   "metadata": {},
   "source": [
    "### Column artist"
   ]
  },
  {
   "cell_type": "markdown",
   "metadata": {},
   "source": [
    "Let's start by seeing what information is inside the column"
   ]
  },
  {
   "cell_type": "code",
   "execution_count": 33,
   "metadata": {},
   "outputs": [
    {
     "name": "stdout",
     "output_type": "stream",
     "text": [
      "['Billie Eilish' 'Bon Iver' 'Ariana Grande' 'H.E.R.' 'Khalid'\n",
      " 'Lil Nas X Featuring Billy Ray Cyrus' 'Lizzo' 'Post Malone & Swae Lee'\n",
      " 'Lana Del Rey' 'Lil Nas X' 'Vampire Weekend'\n",
      " 'Chick Corea & The Spanish Heart Band' '(Billie Eilish)' '(Lady Gaga)'\n",
      " '(Tanya Tucker)' '(H.E.R.)' '(Taylor Swift)' '(Lana Del Rey)'\n",
      " '(Lewis Capaldi)' '(Lizzo)' 'Beyoncé' 'Taylor Swift'\n",
      " 'Ariana Grande & Social House' 'Jonas Brothers'\n",
      " 'Shawn Mendes & Camila Cabello' 'Elvis Costello & The Imposters'\n",
      " 'Andrea Bocelli' 'Michael Bublé' 'John Legend' 'Barbra Streisand'\n",
      " 'Ed Sheeran' 'The Chemical Brothers' 'Bonobo' 'Meduza Featuring Goodboys'\n",
      " 'RÜFÜS DU SOL' 'Skrillex, Boys Noize & Ty Dolla $ign' 'Apparat' 'Flume'\n",
      " 'Tycho Featuring Saint Sinner' 'Rodrigo y Gabriela'\n",
      " 'Christian Scott aTunde Adjuah' '(John Coltrane)' 'Theo Croker'\n",
      " 'Mark Guiliana' 'Lettuce' 'Gary Clark Jr.' 'Bones UK' 'Brittany Howard'\n",
      " 'Karen O & Danger Mouse' 'Rival Sons']\n"
     ]
    }
   ],
   "source": [
    "print(df['artist'].unique()[:50])"
   ]
  },
  {
   "cell_type": "markdown",
   "metadata": {},
   "source": [
    "We identified that there are artist names between parentheses, this is due to the process that was done with the null values. Then we test with any artist what information there is in the rows that have the name between parenthesis and those that do not have parenthesis. "
   ]
  },
  {
   "cell_type": "code",
   "execution_count": 34,
   "metadata": {},
   "outputs": [
    {
     "data": {
      "text/html": [
       "<div>\n",
       "<style scoped>\n",
       "    .dataframe tbody tr th:only-of-type {\n",
       "        vertical-align: middle;\n",
       "    }\n",
       "\n",
       "    .dataframe tbody tr th {\n",
       "        vertical-align: top;\n",
       "    }\n",
       "\n",
       "    .dataframe thead th {\n",
       "        text-align: right;\n",
       "    }\n",
       "</style>\n",
       "<table border=\"1\" class=\"dataframe\">\n",
       "  <thead>\n",
       "    <tr style=\"text-align: right;\">\n",
       "      <th></th>\n",
       "      <th>id</th>\n",
       "      <th>year</th>\n",
       "      <th>title</th>\n",
       "      <th>category</th>\n",
       "      <th>nominee</th>\n",
       "      <th>artist</th>\n",
       "      <th>workers</th>\n",
       "      <th>winner</th>\n",
       "    </tr>\n",
       "  </thead>\n",
       "  <tbody>\n",
       "    <tr>\n",
       "      <th>17</th>\n",
       "      <td>17</td>\n",
       "      <td>2019</td>\n",
       "      <td>62nd Annual GRAMMY Awards  (2019)</td>\n",
       "      <td>Song Of The Year</td>\n",
       "      <td>Bad Guy</td>\n",
       "      <td>(Billie Eilish)</td>\n",
       "      <td>Billie Eilish O'Connell &amp; Finneas O'Connell, s...</td>\n",
       "      <td>True</td>\n",
       "    </tr>\n",
       "    <tr>\n",
       "      <th>357</th>\n",
       "      <td>353</td>\n",
       "      <td>2019</td>\n",
       "      <td>62nd Annual GRAMMY Awards  (2019)</td>\n",
       "      <td>Best Engineered Album, Non-Classical</td>\n",
       "      <td>When We All Fall Asleep, Where Do We Go?</td>\n",
       "      <td>(Billie Eilish)</td>\n",
       "      <td>Rob Kinelski &amp; Finneas O'Connell, engineers; J...</td>\n",
       "      <td>True</td>\n",
       "    </tr>\n",
       "  </tbody>\n",
       "</table>\n",
       "</div>"
      ],
      "text/plain": [
       "      id  year                              title  \\\n",
       "17    17  2019  62nd Annual GRAMMY Awards  (2019)   \n",
       "357  353  2019  62nd Annual GRAMMY Awards  (2019)   \n",
       "\n",
       "                                 category  \\\n",
       "17                       Song Of The Year   \n",
       "357  Best Engineered Album, Non-Classical   \n",
       "\n",
       "                                      nominee           artist  \\\n",
       "17                                    Bad Guy  (Billie Eilish)   \n",
       "357  When We All Fall Asleep, Where Do We Go?  (Billie Eilish)   \n",
       "\n",
       "                                               workers  winner  \n",
       "17   Billie Eilish O'Connell & Finneas O'Connell, s...    True  \n",
       "357  Rob Kinelski & Finneas O'Connell, engineers; J...    True  "
      ]
     },
     "execution_count": 34,
     "metadata": {},
     "output_type": "execute_result"
    }
   ],
   "source": [
    "artists_data = df[df['artist'] == '(Billie Eilish)']\n",
    "artists_data"
   ]
  },
  {
   "cell_type": "code",
   "execution_count": 35,
   "metadata": {},
   "outputs": [
    {
     "data": {
      "text/html": [
       "<div>\n",
       "<style scoped>\n",
       "    .dataframe tbody tr th:only-of-type {\n",
       "        vertical-align: middle;\n",
       "    }\n",
       "\n",
       "    .dataframe tbody tr th {\n",
       "        vertical-align: top;\n",
       "    }\n",
       "\n",
       "    .dataframe thead th {\n",
       "        text-align: right;\n",
       "    }\n",
       "</style>\n",
       "<table border=\"1\" class=\"dataframe\">\n",
       "  <thead>\n",
       "    <tr style=\"text-align: right;\">\n",
       "      <th></th>\n",
       "      <th>id</th>\n",
       "      <th>year</th>\n",
       "      <th>title</th>\n",
       "      <th>category</th>\n",
       "      <th>nominee</th>\n",
       "      <th>artist</th>\n",
       "      <th>workers</th>\n",
       "      <th>winner</th>\n",
       "    </tr>\n",
       "  </thead>\n",
       "  <tbody>\n",
       "    <tr>\n",
       "      <th>0</th>\n",
       "      <td>1</td>\n",
       "      <td>2019</td>\n",
       "      <td>62nd Annual GRAMMY Awards  (2019)</td>\n",
       "      <td>Record Of The Year</td>\n",
       "      <td>Bad Guy</td>\n",
       "      <td>Billie Eilish</td>\n",
       "      <td>Finneas O'Connell, producer; Rob Kinelski &amp; Fi...</td>\n",
       "      <td>True</td>\n",
       "    </tr>\n",
       "    <tr>\n",
       "      <th>8</th>\n",
       "      <td>9</td>\n",
       "      <td>2019</td>\n",
       "      <td>62nd Annual GRAMMY Awards  (2019)</td>\n",
       "      <td>Album Of The Year</td>\n",
       "      <td>When We All Fall Asleep, Where Do We Go?</td>\n",
       "      <td>Billie Eilish</td>\n",
       "      <td>Finneas O'Connell, producer; Rob Kinelski &amp; Fi...</td>\n",
       "      <td>True</td>\n",
       "    </tr>\n",
       "    <tr>\n",
       "      <th>35</th>\n",
       "      <td>35</td>\n",
       "      <td>2019</td>\n",
       "      <td>62nd Annual GRAMMY Awards  (2019)</td>\n",
       "      <td>Best Pop Solo Performance</td>\n",
       "      <td>Bad Guy</td>\n",
       "      <td>Billie Eilish</td>\n",
       "      <td>Billie Eilish</td>\n",
       "      <td>True</td>\n",
       "    </tr>\n",
       "    <tr>\n",
       "      <th>49</th>\n",
       "      <td>48</td>\n",
       "      <td>2019</td>\n",
       "      <td>62nd Annual GRAMMY Awards  (2019)</td>\n",
       "      <td>Best Pop Vocal Album</td>\n",
       "      <td>When We All Fall Asleep, Where Do We Go?</td>\n",
       "      <td>Billie Eilish</td>\n",
       "      <td>Billie Eilish</td>\n",
       "      <td>True</td>\n",
       "    </tr>\n",
       "  </tbody>\n",
       "</table>\n",
       "</div>"
      ],
      "text/plain": [
       "    id  year                              title                   category  \\\n",
       "0    1  2019  62nd Annual GRAMMY Awards  (2019)         Record Of The Year   \n",
       "8    9  2019  62nd Annual GRAMMY Awards  (2019)          Album Of The Year   \n",
       "35  35  2019  62nd Annual GRAMMY Awards  (2019)  Best Pop Solo Performance   \n",
       "49  48  2019  62nd Annual GRAMMY Awards  (2019)       Best Pop Vocal Album   \n",
       "\n",
       "                                     nominee         artist  \\\n",
       "0                                    Bad Guy  Billie Eilish   \n",
       "8   When We All Fall Asleep, Where Do We Go?  Billie Eilish   \n",
       "35                                   Bad Guy  Billie Eilish   \n",
       "49  When We All Fall Asleep, Where Do We Go?  Billie Eilish   \n",
       "\n",
       "                                              workers  winner  \n",
       "0   Finneas O'Connell, producer; Rob Kinelski & Fi...    True  \n",
       "8   Finneas O'Connell, producer; Rob Kinelski & Fi...    True  \n",
       "35                                      Billie Eilish    True  \n",
       "49                                      Billie Eilish    True  "
      ]
     },
     "execution_count": 35,
     "metadata": {},
     "output_type": "execute_result"
    }
   ],
   "source": [
    "artists_data = df[df['artist'] == 'Billie Eilish']\n",
    "artists_data"
   ]
  },
  {
   "cell_type": "markdown",
   "metadata": {},
   "source": [
    "We see that they are stored as if they were different artists and this could be detrimental to the analysis. So we will do the procedure to remove this parenthesis using regular expressions."
   ]
  },
  {
   "cell_type": "code",
   "execution_count": 36,
   "metadata": {},
   "outputs": [],
   "source": [
    "df['artist'] = df['artist'].str.replace(r'\\((.*?)\\)', r'\\1', regex=True)"
   ]
  },
  {
   "cell_type": "code",
   "execution_count": 37,
   "metadata": {},
   "outputs": [
    {
     "name": "stdout",
     "output_type": "stream",
     "text": [
      "['Billie Eilish' 'Bon Iver' 'Ariana Grande' 'H.E.R.' 'Khalid'\n",
      " 'Lil Nas X Featuring Billy Ray Cyrus' 'Lizzo' 'Post Malone & Swae Lee'\n",
      " 'Lana Del Rey' 'Lil Nas X' 'Vampire Weekend'\n",
      " 'Chick Corea & The Spanish Heart Band' 'Lady Gaga' 'Tanya Tucker'\n",
      " 'Taylor Swift' 'Lewis Capaldi' 'Beyoncé' 'Ariana Grande & Social House'\n",
      " 'Jonas Brothers' 'Shawn Mendes & Camila Cabello'\n",
      " 'Elvis Costello & The Imposters' 'Andrea Bocelli' 'Michael Bublé'\n",
      " 'John Legend' 'Barbra Streisand' 'Ed Sheeran' 'The Chemical Brothers'\n",
      " 'Bonobo' 'Meduza Featuring Goodboys' 'RÜFÜS DU SOL'\n",
      " 'Skrillex, Boys Noize & Ty Dolla $ign' 'Apparat' 'Flume'\n",
      " 'Tycho Featuring Saint Sinner' 'Rodrigo y Gabriela'\n",
      " 'Christian Scott aTunde Adjuah' 'John Coltrane' 'Theo Croker'\n",
      " 'Mark Guiliana' 'Lettuce' 'Gary Clark Jr.' 'Bones UK' 'Brittany Howard'\n",
      " 'Karen O & Danger Mouse' 'Rival Sons' 'Tool'\n",
      " 'Candlemass Featuring Tony Iommi' 'Death Angel' 'I Prevail'\n",
      " 'Killswitch Engage']\n"
     ]
    }
   ],
   "source": [
    "print(df['artist'].unique()[:50])"
   ]
  },
  {
   "cell_type": "code",
   "execution_count": 38,
   "metadata": {},
   "outputs": [
    {
     "data": {
      "text/html": [
       "<div>\n",
       "<style scoped>\n",
       "    .dataframe tbody tr th:only-of-type {\n",
       "        vertical-align: middle;\n",
       "    }\n",
       "\n",
       "    .dataframe tbody tr th {\n",
       "        vertical-align: top;\n",
       "    }\n",
       "\n",
       "    .dataframe thead th {\n",
       "        text-align: right;\n",
       "    }\n",
       "</style>\n",
       "<table border=\"1\" class=\"dataframe\">\n",
       "  <thead>\n",
       "    <tr style=\"text-align: right;\">\n",
       "      <th></th>\n",
       "      <th>id</th>\n",
       "      <th>year</th>\n",
       "      <th>title</th>\n",
       "      <th>category</th>\n",
       "      <th>nominee</th>\n",
       "      <th>artist</th>\n",
       "      <th>workers</th>\n",
       "      <th>winner</th>\n",
       "    </tr>\n",
       "  </thead>\n",
       "  <tbody>\n",
       "    <tr>\n",
       "      <th>0</th>\n",
       "      <td>1</td>\n",
       "      <td>2019</td>\n",
       "      <td>62nd Annual GRAMMY Awards  (2019)</td>\n",
       "      <td>Record Of The Year</td>\n",
       "      <td>Bad Guy</td>\n",
       "      <td>Billie Eilish</td>\n",
       "      <td>Finneas O'Connell, producer; Rob Kinelski &amp; Fi...</td>\n",
       "      <td>True</td>\n",
       "    </tr>\n",
       "    <tr>\n",
       "      <th>8</th>\n",
       "      <td>9</td>\n",
       "      <td>2019</td>\n",
       "      <td>62nd Annual GRAMMY Awards  (2019)</td>\n",
       "      <td>Album Of The Year</td>\n",
       "      <td>When We All Fall Asleep, Where Do We Go?</td>\n",
       "      <td>Billie Eilish</td>\n",
       "      <td>Finneas O'Connell, producer; Rob Kinelski &amp; Fi...</td>\n",
       "      <td>True</td>\n",
       "    </tr>\n",
       "    <tr>\n",
       "      <th>17</th>\n",
       "      <td>17</td>\n",
       "      <td>2019</td>\n",
       "      <td>62nd Annual GRAMMY Awards  (2019)</td>\n",
       "      <td>Song Of The Year</td>\n",
       "      <td>Bad Guy</td>\n",
       "      <td>Billie Eilish</td>\n",
       "      <td>Billie Eilish O'Connell &amp; Finneas O'Connell, s...</td>\n",
       "      <td>True</td>\n",
       "    </tr>\n",
       "    <tr>\n",
       "      <th>35</th>\n",
       "      <td>35</td>\n",
       "      <td>2019</td>\n",
       "      <td>62nd Annual GRAMMY Awards  (2019)</td>\n",
       "      <td>Best Pop Solo Performance</td>\n",
       "      <td>Bad Guy</td>\n",
       "      <td>Billie Eilish</td>\n",
       "      <td>Billie Eilish</td>\n",
       "      <td>True</td>\n",
       "    </tr>\n",
       "    <tr>\n",
       "      <th>49</th>\n",
       "      <td>48</td>\n",
       "      <td>2019</td>\n",
       "      <td>62nd Annual GRAMMY Awards  (2019)</td>\n",
       "      <td>Best Pop Vocal Album</td>\n",
       "      <td>When We All Fall Asleep, Where Do We Go?</td>\n",
       "      <td>Billie Eilish</td>\n",
       "      <td>Billie Eilish</td>\n",
       "      <td>True</td>\n",
       "    </tr>\n",
       "    <tr>\n",
       "      <th>357</th>\n",
       "      <td>353</td>\n",
       "      <td>2019</td>\n",
       "      <td>62nd Annual GRAMMY Awards  (2019)</td>\n",
       "      <td>Best Engineered Album, Non-Classical</td>\n",
       "      <td>When We All Fall Asleep, Where Do We Go?</td>\n",
       "      <td>Billie Eilish</td>\n",
       "      <td>Rob Kinelski &amp; Finneas O'Connell, engineers; J...</td>\n",
       "      <td>True</td>\n",
       "    </tr>\n",
       "  </tbody>\n",
       "</table>\n",
       "</div>"
      ],
      "text/plain": [
       "      id  year                              title  \\\n",
       "0      1  2019  62nd Annual GRAMMY Awards  (2019)   \n",
       "8      9  2019  62nd Annual GRAMMY Awards  (2019)   \n",
       "17    17  2019  62nd Annual GRAMMY Awards  (2019)   \n",
       "35    35  2019  62nd Annual GRAMMY Awards  (2019)   \n",
       "49    48  2019  62nd Annual GRAMMY Awards  (2019)   \n",
       "357  353  2019  62nd Annual GRAMMY Awards  (2019)   \n",
       "\n",
       "                                 category  \\\n",
       "0                      Record Of The Year   \n",
       "8                       Album Of The Year   \n",
       "17                       Song Of The Year   \n",
       "35              Best Pop Solo Performance   \n",
       "49                   Best Pop Vocal Album   \n",
       "357  Best Engineered Album, Non-Classical   \n",
       "\n",
       "                                      nominee         artist  \\\n",
       "0                                     Bad Guy  Billie Eilish   \n",
       "8    When We All Fall Asleep, Where Do We Go?  Billie Eilish   \n",
       "17                                    Bad Guy  Billie Eilish   \n",
       "35                                    Bad Guy  Billie Eilish   \n",
       "49   When We All Fall Asleep, Where Do We Go?  Billie Eilish   \n",
       "357  When We All Fall Asleep, Where Do We Go?  Billie Eilish   \n",
       "\n",
       "                                               workers  winner  \n",
       "0    Finneas O'Connell, producer; Rob Kinelski & Fi...    True  \n",
       "8    Finneas O'Connell, producer; Rob Kinelski & Fi...    True  \n",
       "17   Billie Eilish O'Connell & Finneas O'Connell, s...    True  \n",
       "35                                       Billie Eilish    True  \n",
       "49                                       Billie Eilish    True  \n",
       "357  Rob Kinelski & Finneas O'Connell, engineers; J...    True  "
      ]
     },
     "execution_count": 38,
     "metadata": {},
     "output_type": "execute_result"
    }
   ],
   "source": [
    "artists_data = df[df['artist'] == 'Billie Eilish']\n",
    "artists_data"
   ]
  },
  {
   "cell_type": "markdown",
   "metadata": {},
   "source": [
    "Now we verify that there are no artists in parenthesis and we check again with the previous artist and see that the process worked. "
   ]
  },
  {
   "cell_type": "code",
   "execution_count": 39,
   "metadata": {},
   "outputs": [
    {
     "data": {
      "text/plain": [
       "2242"
      ]
     },
     "execution_count": 39,
     "metadata": {},
     "output_type": "execute_result"
    }
   ],
   "source": [
    "df['artist'].nunique()"
   ]
  },
  {
   "cell_type": "markdown",
   "metadata": {},
   "source": [
    "After this process we went from having 2510 artists to 2242."
   ]
  },
  {
   "cell_type": "code",
   "execution_count": 40,
   "metadata": {},
   "outputs": [
    {
     "data": {
      "image/png": "[encoded data removed]",
      "text/plain": [
       "<Figure size 1000x600 with 1 Axes>"
      ]
     },
     "metadata": {},
     "output_type": "display_data"
    }
   ],
   "source": [
    "frequent_artists = df['artist'].value_counts().head(10)\n",
    "\n",
    "plt.figure(figsize=(10, 6))\n",
    "sns.barplot(x=frequent_artists.values, y=frequent_artists.index, color='mediumspringgreen')\n",
    "\n",
    "for i, v in enumerate(frequent_artists.values):\n",
    "    plt.text(v + 0.2, i, str(v), color='black', va='center')\n",
    "\n",
    "plt.xlabel('Number of Nominations')\n",
    "plt.ylabel('Artist')\n",
    "plt.title('Top 10 Most Frequent Artists')\n",
    "plt.show()"
   ]
  },
  {
   "cell_type": "markdown",
   "metadata": {},
   "source": [
    "The chart provides valuable information about the artists who have had the most success at these awards or those who have had a significant impact on the music industry throughout their careers. It also reflects the diversity of musical genres that are recognized at the Grammys."
   ]
  },
  {
   "cell_type": "code",
   "execution_count": 41,
   "metadata": {},
   "outputs": [
    {
     "data": {
      "text/html": [
       "<div>\n",
       "<style scoped>\n",
       "    .dataframe tbody tr th:only-of-type {\n",
       "        vertical-align: middle;\n",
       "    }\n",
       "\n",
       "    .dataframe tbody tr th {\n",
       "        vertical-align: top;\n",
       "    }\n",
       "\n",
       "    .dataframe thead th {\n",
       "        text-align: right;\n",
       "    }\n",
       "</style>\n",
       "<table border=\"1\" class=\"dataframe\">\n",
       "  <thead>\n",
       "    <tr style=\"text-align: right;\">\n",
       "      <th></th>\n",
       "      <th>id</th>\n",
       "      <th>year</th>\n",
       "      <th>title</th>\n",
       "      <th>category</th>\n",
       "      <th>nominee</th>\n",
       "      <th>artist</th>\n",
       "      <th>workers</th>\n",
       "      <th>winner</th>\n",
       "    </tr>\n",
       "  </thead>\n",
       "  <tbody>\n",
       "    <tr>\n",
       "      <th>214</th>\n",
       "      <td>212</td>\n",
       "      <td>2019</td>\n",
       "      <td>62nd Annual GRAMMY Awards  (2019)</td>\n",
       "      <td>Best Roots Gospel Album</td>\n",
       "      <td>Gonna Sing, Gonna Shout</td>\n",
       "      <td>Various Artists</td>\n",
       "      <td>Jerry Salley, Producer</td>\n",
       "      <td>True</td>\n",
       "    </tr>\n",
       "    <tr>\n",
       "      <th>276</th>\n",
       "      <td>272</td>\n",
       "      <td>2019</td>\n",
       "      <td>62nd Annual GRAMMY Awards  (2019)</td>\n",
       "      <td>Best Regional Roots Music Album</td>\n",
       "      <td>Hawaiian Lullaby</td>\n",
       "      <td>Various Artists</td>\n",
       "      <td>Imua Garza &amp; Kimié Miner, producers</td>\n",
       "      <td>True</td>\n",
       "    </tr>\n",
       "    <tr>\n",
       "      <th>293</th>\n",
       "      <td>289</td>\n",
       "      <td>2019</td>\n",
       "      <td>62nd Annual GRAMMY Awards  (2019)</td>\n",
       "      <td>Best Spoken Word Album (Includes Poetry, Audio...</td>\n",
       "      <td>Beastie Boys Book</td>\n",
       "      <td>Various Artists</td>\n",
       "      <td>Michael Diamond, Adam Horovitz, Scott Sherratt...</td>\n",
       "      <td>True</td>\n",
       "    </tr>\n",
       "    <tr>\n",
       "      <th>308</th>\n",
       "      <td>304</td>\n",
       "      <td>2019</td>\n",
       "      <td>62nd Annual GRAMMY Awards  (2019)</td>\n",
       "      <td>Best Compilation Soundtrack For Visual Media</td>\n",
       "      <td>The Lion King: The Songs</td>\n",
       "      <td>Various Artists</td>\n",
       "      <td>Jon Favreau &amp; Hans Zimmer, compilation producers</td>\n",
       "      <td>True</td>\n",
       "    </tr>\n",
       "    <tr>\n",
       "      <th>309</th>\n",
       "      <td>305</td>\n",
       "      <td>2019</td>\n",
       "      <td>62nd Annual GRAMMY Awards  (2019)</td>\n",
       "      <td>Best Compilation Soundtrack For Visual Media</td>\n",
       "      <td>Quentin Tarantino's Once Upon A Time In Hollywood</td>\n",
       "      <td>Various Artists</td>\n",
       "      <td>Quentin Tarantino, compilation producer; Mary ...</td>\n",
       "      <td>True</td>\n",
       "    </tr>\n",
       "    <tr>\n",
       "      <th>...</th>\n",
       "      <td>...</td>\n",
       "      <td>...</td>\n",
       "      <td>...</td>\n",
       "      <td>...</td>\n",
       "      <td>...</td>\n",
       "      <td>...</td>\n",
       "      <td>...</td>\n",
       "      <td>...</td>\n",
       "    </tr>\n",
       "    <tr>\n",
       "      <th>3923</th>\n",
       "      <td>3916</td>\n",
       "      <td>1978</td>\n",
       "      <td>21st Annual GRAMMY Awards  (1978)</td>\n",
       "      <td>Best Cast Show Album</td>\n",
       "      <td>Ain't Misbehavin'</td>\n",
       "      <td>Various Artists</td>\n",
       "      <td>Thomas Z. Shepard, producer (Various Artists)</td>\n",
       "      <td>True</td>\n",
       "    </tr>\n",
       "    <tr>\n",
       "      <th>3981</th>\n",
       "      <td>3975</td>\n",
       "      <td>1977</td>\n",
       "      <td>20th Annual GRAMMY Awards  (1977)</td>\n",
       "      <td>Best Recording For Children</td>\n",
       "      <td>Aren't You Glad You're You</td>\n",
       "      <td>Various Artists</td>\n",
       "      <td>(Various Artists)</td>\n",
       "      <td>True</td>\n",
       "    </tr>\n",
       "    <tr>\n",
       "      <th>4006</th>\n",
       "      <td>3999</td>\n",
       "      <td>1976</td>\n",
       "      <td>19th Annual GRAMMY Awards  (1976)</td>\n",
       "      <td>Best Album Notes</td>\n",
       "      <td>The Changing Face Of Harlem - The Savoy Sessions</td>\n",
       "      <td>Various Artists</td>\n",
       "      <td>Dan Morgenstern, album notes writer (Various A...</td>\n",
       "      <td>True</td>\n",
       "    </tr>\n",
       "    <tr>\n",
       "      <th>4035</th>\n",
       "      <td>4028</td>\n",
       "      <td>1976</td>\n",
       "      <td>19th Annual GRAMMY Awards  (1976)</td>\n",
       "      <td>Album Of Best Original Score Written For A Mot...</td>\n",
       "      <td>Car Wash</td>\n",
       "      <td>Various Artists</td>\n",
       "      <td>Norman Whitfield, composer (Various Artists)</td>\n",
       "      <td>True</td>\n",
       "    </tr>\n",
       "    <tr>\n",
       "      <th>4765</th>\n",
       "      <td>4766</td>\n",
       "      <td>1959</td>\n",
       "      <td>2nd Annual GRAMMY Awards  (1959)</td>\n",
       "      <td>Best Sound Track Album, Original Cast - Motion...</td>\n",
       "      <td>Porgy And Bess</td>\n",
       "      <td>Various Artists</td>\n",
       "      <td>(Various Artists)</td>\n",
       "      <td>True</td>\n",
       "    </tr>\n",
       "  </tbody>\n",
       "</table>\n",
       "<p>109 rows × 8 columns</p>\n",
       "</div>"
      ],
      "text/plain": [
       "        id  year                              title  \\\n",
       "214    212  2019  62nd Annual GRAMMY Awards  (2019)   \n",
       "276    272  2019  62nd Annual GRAMMY Awards  (2019)   \n",
       "293    289  2019  62nd Annual GRAMMY Awards  (2019)   \n",
       "308    304  2019  62nd Annual GRAMMY Awards  (2019)   \n",
       "309    305  2019  62nd Annual GRAMMY Awards  (2019)   \n",
       "...    ...   ...                                ...   \n",
       "3923  3916  1978  21st Annual GRAMMY Awards  (1978)   \n",
       "3981  3975  1977  20th Annual GRAMMY Awards  (1977)   \n",
       "4006  3999  1976  19th Annual GRAMMY Awards  (1976)   \n",
       "4035  4028  1976  19th Annual GRAMMY Awards  (1976)   \n",
       "4765  4766  1959   2nd Annual GRAMMY Awards  (1959)   \n",
       "\n",
       "                                               category  \\\n",
       "214                             Best Roots Gospel Album   \n",
       "276                     Best Regional Roots Music Album   \n",
       "293   Best Spoken Word Album (Includes Poetry, Audio...   \n",
       "308        Best Compilation Soundtrack For Visual Media   \n",
       "309        Best Compilation Soundtrack For Visual Media   \n",
       "...                                                 ...   \n",
       "3923                               Best Cast Show Album   \n",
       "3981                        Best Recording For Children   \n",
       "4006                                   Best Album Notes   \n",
       "4035  Album Of Best Original Score Written For A Mot...   \n",
       "4765  Best Sound Track Album, Original Cast - Motion...   \n",
       "\n",
       "                                                nominee           artist  \\\n",
       "214                             Gonna Sing, Gonna Shout  Various Artists   \n",
       "276                                    Hawaiian Lullaby  Various Artists   \n",
       "293                                   Beastie Boys Book  Various Artists   \n",
       "308                            The Lion King: The Songs  Various Artists   \n",
       "309   Quentin Tarantino's Once Upon A Time In Hollywood  Various Artists   \n",
       "...                                                 ...              ...   \n",
       "3923                                  Ain't Misbehavin'  Various Artists   \n",
       "3981                         Aren't You Glad You're You  Various Artists   \n",
       "4006   The Changing Face Of Harlem - The Savoy Sessions  Various Artists   \n",
       "4035                                           Car Wash  Various Artists   \n",
       "4765                                     Porgy And Bess  Various Artists   \n",
       "\n",
       "                                                workers  winner  \n",
       "214                              Jerry Salley, Producer    True  \n",
       "276                 Imua Garza & Kimié Miner, producers    True  \n",
       "293   Michael Diamond, Adam Horovitz, Scott Sherratt...    True  \n",
       "308    Jon Favreau & Hans Zimmer, compilation producers    True  \n",
       "309   Quentin Tarantino, compilation producer; Mary ...    True  \n",
       "...                                                 ...     ...  \n",
       "3923      Thomas Z. Shepard, producer (Various Artists)    True  \n",
       "3981                                  (Various Artists)    True  \n",
       "4006  Dan Morgenstern, album notes writer (Various A...    True  \n",
       "4035       Norman Whitfield, composer (Various Artists)    True  \n",
       "4765                                  (Various Artists)    True  \n",
       "\n",
       "[109 rows x 8 columns]"
      ]
     },
     "execution_count": 41,
     "metadata": {},
     "output_type": "execute_result"
    }
   ],
   "source": [
    "various_artists_data = df[df['artist'] == 'Various Artists']\n",
    "various_artists_data"
   ]
  },
  {
   "cell_type": "markdown",
   "metadata": {},
   "source": [
    "We check which rows correspond to 'Various Artists' and we realize that these correspond to the data that were completed in the null values process, as we can see that they correspond to the information in the workers column"
   ]
  },
  {
   "cell_type": "markdown",
   "metadata": {},
   "source": [
    "### Column winner"
   ]
  },
  {
   "cell_type": "code",
   "execution_count": 42,
   "metadata": {},
   "outputs": [
    {
     "data": {
      "image/png": "[encoded data removed]",
      "text/plain": [
       "<Figure size 500x500 with 1 Axes>"
      ]
     },
     "metadata": {},
     "output_type": "display_data"
    }
   ],
   "source": [
    "winners_count = df['winner'].value_counts()\n",
    "\n",
    "plt.figure(figsize=(5, 5))\n",
    "plt.pie(winners_count, labels=winners_count.index, autopct='%1.1f%%', startangle=140, colors=['mediumspringgreen'])\n",
    "plt.title('Distribution of Winners')\n",
    "plt.axis('equal') \n",
    "plt.show()"
   ]
  },
  {
   "cell_type": "markdown",
   "metadata": {},
   "source": [
    "This graph shows that all nominees were winners, I think it would make much more sense to rename this column nominee, this with the objective of the work to be done in the future and rename this column would allow a better result."
   ]
  },
  {
   "cell_type": "code",
   "execution_count": 43,
   "metadata": {},
   "outputs": [
    {
     "data": {
      "text/html": [
       "<div>\n",
       "<style scoped>\n",
       "    .dataframe tbody tr th:only-of-type {\n",
       "        vertical-align: middle;\n",
       "    }\n",
       "\n",
       "    .dataframe tbody tr th {\n",
       "        vertical-align: top;\n",
       "    }\n",
       "\n",
       "    .dataframe thead th {\n",
       "        text-align: right;\n",
       "    }\n",
       "</style>\n",
       "<table border=\"1\" class=\"dataframe\">\n",
       "  <thead>\n",
       "    <tr style=\"text-align: right;\">\n",
       "      <th></th>\n",
       "      <th>id</th>\n",
       "      <th>year</th>\n",
       "      <th>title</th>\n",
       "      <th>category</th>\n",
       "      <th>nominee</th>\n",
       "      <th>artist</th>\n",
       "      <th>workers</th>\n",
       "      <th>nominated</th>\n",
       "    </tr>\n",
       "  </thead>\n",
       "  <tbody>\n",
       "    <tr>\n",
       "      <th>0</th>\n",
       "      <td>1</td>\n",
       "      <td>2019</td>\n",
       "      <td>62nd Annual GRAMMY Awards  (2019)</td>\n",
       "      <td>Record Of The Year</td>\n",
       "      <td>Bad Guy</td>\n",
       "      <td>Billie Eilish</td>\n",
       "      <td>Finneas O'Connell, producer; Rob Kinelski &amp; Fi...</td>\n",
       "      <td>True</td>\n",
       "    </tr>\n",
       "    <tr>\n",
       "      <th>1</th>\n",
       "      <td>2</td>\n",
       "      <td>2019</td>\n",
       "      <td>62nd Annual GRAMMY Awards  (2019)</td>\n",
       "      <td>Record Of The Year</td>\n",
       "      <td>Hey, Ma</td>\n",
       "      <td>Bon Iver</td>\n",
       "      <td>BJ Burton, Brad Cook, Chris Messina &amp; Justin V...</td>\n",
       "      <td>True</td>\n",
       "    </tr>\n",
       "    <tr>\n",
       "      <th>2</th>\n",
       "      <td>3</td>\n",
       "      <td>2019</td>\n",
       "      <td>62nd Annual GRAMMY Awards  (2019)</td>\n",
       "      <td>Record Of The Year</td>\n",
       "      <td>7 rings</td>\n",
       "      <td>Ariana Grande</td>\n",
       "      <td>Charles Anderson, Tommy Brown, Michael Foster ...</td>\n",
       "      <td>True</td>\n",
       "    </tr>\n",
       "    <tr>\n",
       "      <th>3</th>\n",
       "      <td>4</td>\n",
       "      <td>2019</td>\n",
       "      <td>62nd Annual GRAMMY Awards  (2019)</td>\n",
       "      <td>Record Of The Year</td>\n",
       "      <td>Hard Place</td>\n",
       "      <td>H.E.R.</td>\n",
       "      <td>Rodney “Darkchild” Jerkins, producer; Joseph H...</td>\n",
       "      <td>True</td>\n",
       "    </tr>\n",
       "    <tr>\n",
       "      <th>4</th>\n",
       "      <td>5</td>\n",
       "      <td>2019</td>\n",
       "      <td>62nd Annual GRAMMY Awards  (2019)</td>\n",
       "      <td>Record Of The Year</td>\n",
       "      <td>Talk</td>\n",
       "      <td>Khalid</td>\n",
       "      <td>Disclosure &amp; Denis Kosiak, producers; Ingmar C...</td>\n",
       "      <td>True</td>\n",
       "    </tr>\n",
       "  </tbody>\n",
       "</table>\n",
       "</div>"
      ],
      "text/plain": [
       "   id  year                              title            category  \\\n",
       "0   1  2019  62nd Annual GRAMMY Awards  (2019)  Record Of The Year   \n",
       "1   2  2019  62nd Annual GRAMMY Awards  (2019)  Record Of The Year   \n",
       "2   3  2019  62nd Annual GRAMMY Awards  (2019)  Record Of The Year   \n",
       "3   4  2019  62nd Annual GRAMMY Awards  (2019)  Record Of The Year   \n",
       "4   5  2019  62nd Annual GRAMMY Awards  (2019)  Record Of The Year   \n",
       "\n",
       "      nominee         artist  \\\n",
       "0     Bad Guy  Billie Eilish   \n",
       "1     Hey, Ma       Bon Iver   \n",
       "2     7 rings  Ariana Grande   \n",
       "3  Hard Place         H.E.R.   \n",
       "4        Talk         Khalid   \n",
       "\n",
       "                                             workers  nominated  \n",
       "0  Finneas O'Connell, producer; Rob Kinelski & Fi...       True  \n",
       "1  BJ Burton, Brad Cook, Chris Messina & Justin V...       True  \n",
       "2  Charles Anderson, Tommy Brown, Michael Foster ...       True  \n",
       "3  Rodney “Darkchild” Jerkins, producer; Joseph H...       True  \n",
       "4  Disclosure & Denis Kosiak, producers; Ingmar C...       True  "
      ]
     },
     "execution_count": 43,
     "metadata": {},
     "output_type": "execute_result"
    }
   ],
   "source": [
    "df.rename(columns={'winner': 'nominated'}, inplace=True)\n",
    "df.head(5)"
   ]
  },
  {
   "cell_type": "markdown",
   "metadata": {},
   "source": [
    "# References\n",
    "\n",
    "\n",
    "1. 2nd Annual GRAMMY Awards | GRAMMY.com. (s. f.). https://www.grammy.com/awards/2nd-annual-grammy-awards \n",
    "\n",
    "2. Grammy Awards. (2020, 16 septiembre). Kaggle. https://www.kaggle.com/datasets/unanimad/grammy-awards \n",
    "\n",
    "3. Maina, S. (2022, 9 noviembre). Regular Expressions (Regex) with Examples in Python and Pandas. Medium. https://towardsdatascience.com/regular-expressions-regex-with-examples-in-python-and-pandas-461228335670 \n",
    "\n",
    "4. Pandas DataFrame describe() Method. (s. f.). https://www.w3schools.com/python/pandas/ref_df_describe.asp \n",
    "\n",
    "5. Python RegEx. (s. f.). https://www.w3schools.com/python/python_regex.asp \n",
    "\n",
    "6. Spotify Tracks Dataset. (2022, 22 octubre). Kaggle. https://www.kaggle.com/datasets/maharshipandya/-spotify-tracks-dataset \n"
   ]
  }
 ],
 "metadata": {
  "kernelspec": {
   "display_name": "Python 3",
   "language": "python",
   "name": "python3"
  },
  "language_info": {
   "codemirror_mode": {
    "name": "ipython",
    "version": 3
   },
   "file_extension": ".py",
   "mimetype": "text/x-python",
   "name": "python",
   "nbconvert_exporter": "python",
   "pygments_lexer": "ipython3",
   "version": "3.10.12"
  }
 },
 "nbformat": 4,
 "nbformat_minor": 2
}
