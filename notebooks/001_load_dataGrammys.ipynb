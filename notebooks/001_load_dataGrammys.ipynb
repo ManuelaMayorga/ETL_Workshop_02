{
 "cells": [
  {
   "cell_type": "markdown",
   "metadata": {},
   "source": [
    "# Workshop 2 - Manuela Mayorga Rojas\n",
    "\n",
    "#### This workshop is about how to build an ETL pipeline using Apache Airflow, this will be done using two data sources (csv file, database), the first data set is from Spotify (csv file) and the second set is from Grammys (database), using apache airflow we will read the data, one as a csv and another using SQLAlquemys database engine, also using Airflow we will perform transformations, then, merge both data sets and load them in google drive, finally visualize this information in PowerBI. \n",
    " \n",
    "### Objectives:\n",
    "\n",
    "- Use Apache Airflow to read data from multiple sources, such as CSV files and databases.\n",
    "- Apply transformations to the data read using Apache Airflow.\n",
    "- upload the transformed data to an external storage platform (Google Drive)\n",
    "- Merge data sets \n",
    "- Use PowerBI to visualize information\n"
   ]
  },
  {
   "cell_type": "markdown",
   "metadata": {},
   "source": [
    "This part covers operations related to data management, creation and configuration of tables in the database. From database connection and data manipulation to table creation and data loading. This process is performed to load the initial dataset of the grammys. "
   ]
  },
  {
   "cell_type": "markdown",
   "metadata": {},
   "source": [
    "The environment variables are loaded from a `.env` Processor. The main goal is to manage the configuration, and the `WORK_PATH` environment variable is used to define a working directory."
   ]
  },
  {
   "cell_type": "code",
   "execution_count": 6,
   "metadata": {},
   "outputs": [],
   "source": [
    "import sys\n",
    "import os\n",
    "from dotenv import load_dotenv\n",
    "\n",
    "load_dotenv()\n",
    "work_path = os.getenv('WORK_PATH')\n",
    "\n",
    "sys.path.append(work_path)\n"
   ]
  },
  {
   "cell_type": "markdown",
   "metadata": {},
   "source": [
    "The necessary libraries are imported for use"
   ]
  },
  {
   "cell_type": "code",
   "execution_count": 7,
   "metadata": {},
   "outputs": [],
   "source": [
    "from sqlalchemy.orm import sessionmaker\n",
    "from sqlalchemy import inspect, Table, MetaData, insert\n",
    "from src.database.connection import config_loader\n",
    "from src.data_process.class_processor import Processor\n",
    "from src.models.models import Grammys\n",
    "import logging\n"
   ]
  },
  {
   "cell_type": "code",
   "execution_count": 3,
   "metadata": {},
   "outputs": [
    {
     "name": "stderr",
     "output_type": "stream",
     "text": [
      "INFO:root:Connected successfully to Workshop-2 database\n"
     ]
    }
   ],
   "source": [
    "connection = config_loader()\n",
    "\n",
    "Session = sessionmaker(bind=config_loader)\n",
    "session = Session()"
   ]
  },
  {
   "cell_type": "markdown",
   "metadata": {},
   "source": [
    "A connection to a database is established using `connection` and a SQLAlchemy session is created using `sessionmaker` linked to that connection. This streamlines database operations in the program."
   ]
  },
  {
   "cell_type": "code",
   "execution_count": 5,
   "metadata": {},
   "outputs": [
    {
     "name": "stdout",
     "output_type": "stream",
     "text": [
      "Table created successfully.\n"
     ]
    }
   ],
   "source": [
    "try:\n",
    "    Grammys.__table__.create(connection)\n",
    "    print(\"Table created successfully.\")\n",
    "except Exception as e:\n",
    "    print(f\"Error creating table: {e}\")"
   ]
  },
  {
   "cell_type": "markdown",
   "metadata": {},
   "source": [
    "Load the data in the 'grammys' table, and in case of an error, indicate which one it is."
   ]
  },
  {
   "cell_type": "code",
   "execution_count": 8,
   "metadata": {},
   "outputs": [
    {
     "name": "stderr",
     "output_type": "stream",
     "text": [
      "/tmp/ipykernel_5484/774297178.py:7: RemovedIn20Warning: Deprecated API features detected! These feature(s) are not compatible with SQLAlchemy 2.0. To prevent incompatible upgrades prior to updating applications, ensure requirements files are pinned to \"sqlalchemy<2.0\". Set environment variable SQLALCHEMY_WARN_20=1 to show all deprecation warnings.  Set environment variable SQLALCHEMY_SILENCE_UBER_WARNING=1 to silence this message. (Background on SQLAlchemy 2.0 at: https://sqlalche.me/e/b8d9)\n",
      "  table = Table('grammys', metadata, autoload=True, autoload_with=connection)\n",
      "INFO:root:Data inserted successfully.\n"
     ]
    }
   ],
   "source": [
    "data = Processor('../data/the_grammy_awards.csv')\n",
    "data.insert_id()\n",
    "df = data.df\n",
    "\n",
    "try:\n",
    "    metadata = MetaData()\n",
    "    table = Table('grammys', metadata, autoload=True, autoload_with=connection)\n",
    "\n",
    "    with connection.connect() as conn:\n",
    "        values = [{col: row[col] for col in df.columns} for _, row in df.iterrows()]\n",
    "\n",
    "        conn.execute(insert(table), values)\n",
    "            \n",
    "        logging.info(\"Data inserted successfully.\")\n",
    "except Exception as e:\n",
    "        logging.error(f\"Error inserting data: {e}\")\n"
   ]
  },
  {
   "cell_type": "markdown",
   "metadata": {},
   "source": [
    "# References\n",
    "The following links served as a guide to run this work with the necessary tools. \n",
    "\n",
    "\n",
    "1. GroverTec. (2024, 24 febrero). Como Instalar Python en Linux Ubuntu: Guía Sencilla para Principiantes [Vídeo]. YouTube. https://www.youtube.com/watch?v=88np4KkfDO8 \n",
    "\n",
    "2. Enreta Services. (2022, 22 abril). 🟣 Cómo instalar UBUNTU 22.04 PASO a PASO desde cero! TUTORIAL 📀 [Vídeo]. YouTube. https://www.youtube.com/watch?v=8MRibUo9VAA  \n",
    "\n",
    "3. kipuna ec. (2024, 25 febrero). Instalar git en Ubuntu [Vídeo]. YouTube. https://www.youtube.com/watch?v=4M8cL-lXANQ  \n",
    "\n",
    "4. Roelcode. (2022, 13 septiembre). 🐘Instalar PostgreSQL 14 y PgAdmin4 en Linux 🐧 Ubuntu 22.04 y distros basados en Ubuntu [Vídeo]. YouTube. https://www.youtube.com/watch?v=5sP36Hdh4wU  "
   ]
  }
 ],
 "metadata": {
  "kernelspec": {
   "display_name": "Python 3",
   "language": "python",
   "name": "python3"
  },
  "language_info": {
   "codemirror_mode": {
    "name": "ipython",
    "version": 3
   },
   "file_extension": ".py",
   "mimetype": "text/x-python",
   "name": "python",
   "nbconvert_exporter": "python",
   "pygments_lexer": "ipython3",
   "version": "3.10.12"
  }
 },
 "nbformat": 4,
 "nbformat_minor": 2
}
